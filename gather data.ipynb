{
 "cells": [
  {
   "cell_type": "code",
   "execution_count": 1,
   "metadata": {
    "collapsed": true
   },
   "outputs": [
    {
     "name": "stdout",
     "output_type": "stream",
     "text": [
      "Requirement already satisfied: lxml in c:\\programdata\\anaconda3\\lib\\site-packages (4.5.0)\n"
     ]
    }
   ],
   "source": [
    "!pip install lxml"
   ]
  },
  {
   "cell_type": "code",
   "execution_count": 2,
   "metadata": {
    "collapsed": true
   },
   "outputs": [
    {
     "name": "stdout",
     "output_type": "stream",
     "text": [
      "Requirement already satisfied: bs4 in c:\\programdata\\anaconda3\\lib\\site-packages (0.0.1)\n",
      "Requirement already satisfied: beautifulsoup4 in c:\\programdata\\anaconda3\\lib\\site-packages (from bs4) (4.8.2)\n",
      "Requirement already satisfied: soupsieve>=1.2 in c:\\programdata\\anaconda3\\lib\\site-packages (from beautifulsoup4->bs4) (1.9.5)\n"
     ]
    }
   ],
   "source": [
    "!pip install bs4"
   ]
  },
  {
   "cell_type": "code",
   "execution_count": 3,
   "metadata": {
    "collapsed": true
   },
   "outputs": [
    {
     "name": "stdout",
     "output_type": "stream",
     "text": [
      "Requirement already satisfied: requests in c:\\programdata\\anaconda3\\lib\\site-packages (2.22.0)\n",
      "Requirement already satisfied: urllib3!=1.25.0,!=1.25.1,<1.26,>=1.21.1 in c:\\programdata\\anaconda3\\lib\\site-packages (from requests) (1.25.8)\n",
      "Requirement already satisfied: certifi>=2017.4.17 in c:\\programdata\\anaconda3\\lib\\site-packages (from requests) (2019.11.28)\n",
      "Requirement already satisfied: chardet<3.1.0,>=3.0.2 in c:\\programdata\\anaconda3\\lib\\site-packages (from requests) (3.0.4)\n",
      "Requirement already satisfied: idna<2.9,>=2.5 in c:\\programdata\\anaconda3\\lib\\site-packages (from requests) (2.8)\n"
     ]
    }
   ],
   "source": [
    "!pip install requests"
   ]
  },
  {
   "cell_type": "code",
   "execution_count": 1,
   "metadata": {},
   "outputs": [],
   "source": [
    "import pandas as pd\n",
    "from IPython.display import clear_output\n",
    "import re\n",
    "import requests as req\n",
    "from bs4 import BeautifulSoup\n",
    "import os"
   ]
  },
  {
   "cell_type": "code",
   "execution_count": 2,
   "metadata": {},
   "outputs": [],
   "source": [
    "os.chdir('/Users/александр/DLS deep learning school/Huawei_project/data')"
   ]
  },
  {
   "cell_type": "code",
   "execution_count": 3,
   "metadata": {},
   "outputs": [
    {
     "data": {
      "text/plain": [
       "'C:\\\\Users\\\\александр\\\\DLS deep learning school\\\\Huawei_project\\\\data'"
      ]
     },
     "execution_count": 3,
     "metadata": {},
     "output_type": "execute_result"
    }
   ],
   "source": [
    "os.getcwd()"
   ]
  },
  {
   "cell_type": "markdown",
   "metadata": {},
   "source": [
    "## https://news.sarbc.ru/lenta/"
   ]
  },
  {
   "cell_type": "markdown",
   "metadata": {},
   "source": [
    "Функция, которая ищет ссылку на документ и краткое содержание"
   ]
  },
  {
   "cell_type": "code",
   "execution_count": 1,
   "metadata": {},
   "outputs": [],
   "source": [
    "def get_data(url):\n",
    "    dat = []\n",
    "    link = []\n",
    "    r = req.get(url)\n",
    "    soup=BeautifulSoup(r.content,\"lxml\")\n",
    "    for i, data in enumerate(soup.find_all('div', 'lenta-news-description')):\n",
    "        dat.append(re.sub('[\\n]','',data.text).strip(' '))\n",
    "        print(i/(2*len(soup.find_all('div', 'lenta-news-description'))))\n",
    "        clear_output(True)\n",
    "    for i,data in enumerate(soup.find_all(rel = 'nofollow', style=\"line-height: 150%;\")):\n",
    "        link.append(str(data)[8:str(data).find('rel')])\n",
    "        print(0.5 + i/(2*len(soup.find_all(rel = 'nofollow', style=\"line-height: 150%;\"))))\n",
    "        clear_output(True)\n",
    "    data = pd.DataFrame({'link':link, 'data':dat})\n",
    "    return data.drop(data[data['data'] == ''].index)"
   ]
  },
  {
   "cell_type": "code",
   "execution_count": 2,
   "metadata": {
    "collapsed": true
   },
   "outputs": [
    {
     "data": {
      "text/html": [
       "<div>\n",
       "<style scoped>\n",
       "    .dataframe tbody tr th:only-of-type {\n",
       "        vertical-align: middle;\n",
       "    }\n",
       "\n",
       "    .dataframe tbody tr th {\n",
       "        vertical-align: top;\n",
       "    }\n",
       "\n",
       "    .dataframe thead th {\n",
       "        text-align: right;\n",
       "    }\n",
       "</style>\n",
       "<table border=\"1\" class=\"dataframe\">\n",
       "  <thead>\n",
       "    <tr style=\"text-align: right;\">\n",
       "      <th></th>\n",
       "      <th>link</th>\n",
       "      <th>data</th>\n",
       "    </tr>\n",
       "  </thead>\n",
       "  <tbody>\n",
       "    <tr>\n",
       "      <th>0</th>\n",
       "      <td>\"http://www.rbc.ru/society/15/04/2020/5e96da1a...</td>\n",
       "      <td>В ведомстве заявили, что расследование в отнош...</td>\n",
       "    </tr>\n",
       "    <tr>\n",
       "      <th>1</th>\n",
       "      <td>\"http://www.rbc.ru/society/15/04/2020/5e2fe945...</td>\n",
       "      <td>В России число зараженных коронавирусом превыс...</td>\n",
       "    </tr>\n",
       "    <tr>\n",
       "      <th>2</th>\n",
       "      <td>\"http://www.rbc.ru/society/15/04/2020/5e96d457...</td>\n",
       "      <td>Скопление людей в очередях перед входом в метр...</td>\n",
       "    </tr>\n",
       "    <tr>\n",
       "      <th>3</th>\n",
       "      <td>\"http://www.rbc.ru/economics/15/04/2020/5e96c3...</td>\n",
       "      <td>Глобальный спрос на нефть в апреле 2020 года у...</td>\n",
       "    </tr>\n",
       "    <tr>\n",
       "      <th>4</th>\n",
       "      <td>\"http://www.rbc.ru/business/15/04/2020/5e96c16...</td>\n",
       "      <td>Российская нефть Urals подешевела, несмотря на...</td>\n",
       "    </tr>\n",
       "    <tr>\n",
       "      <th>...</th>\n",
       "      <td>...</td>\n",
       "      <td>...</td>\n",
       "    </tr>\n",
       "    <tr>\n",
       "      <th>208</th>\n",
       "      <td>\"https://lenta.ru/news/2020/04/14/rezin/\"</td>\n",
       "      <td>В Москве владельцев двухкомнатной квартиры пос...</td>\n",
       "    </tr>\n",
       "    <tr>\n",
       "      <th>209</th>\n",
       "      <td>\"https://lenta.ru/news/2020/04/14/gpn/\"</td>\n",
       "      <td>Совместное предприятие «Газпром нефти» и Shell...</td>\n",
       "    </tr>\n",
       "    <tr>\n",
       "      <th>210</th>\n",
       "      <td>\"https://lenta.ru/news/2020/04/14/russia_usa/\"</td>\n",
       "      <td>Российский пловец, трехкратный призер чемпиона...</td>\n",
       "    </tr>\n",
       "    <tr>\n",
       "      <th>211</th>\n",
       "      <td>\"https://lenta.ru/news/2020/04/14/sila/\"</td>\n",
       "      <td>В Краснодарском крае врачи силой укладывали кр...</td>\n",
       "    </tr>\n",
       "    <tr>\n",
       "      <th>212</th>\n",
       "      <td>\"https://lenta.ru/news/2020/04/14/darkphotons/\"</td>\n",
       "      <td>Китайские физики, работающие в коллаборации Ch...</td>\n",
       "    </tr>\n",
       "  </tbody>\n",
       "</table>\n",
       "<p>213 rows × 2 columns</p>\n",
       "</div>"
      ],
      "text/plain": [
       "                                                  link  \\\n",
       "0    \"http://www.rbc.ru/society/15/04/2020/5e96da1a...   \n",
       "1    \"http://www.rbc.ru/society/15/04/2020/5e2fe945...   \n",
       "2    \"http://www.rbc.ru/society/15/04/2020/5e96d457...   \n",
       "3    \"http://www.rbc.ru/economics/15/04/2020/5e96c3...   \n",
       "4    \"http://www.rbc.ru/business/15/04/2020/5e96c16...   \n",
       "..                                                 ...   \n",
       "208         \"https://lenta.ru/news/2020/04/14/rezin/\"    \n",
       "209           \"https://lenta.ru/news/2020/04/14/gpn/\"    \n",
       "210    \"https://lenta.ru/news/2020/04/14/russia_usa/\"    \n",
       "211          \"https://lenta.ru/news/2020/04/14/sila/\"    \n",
       "212   \"https://lenta.ru/news/2020/04/14/darkphotons/\"    \n",
       "\n",
       "                                                  data  \n",
       "0    В ведомстве заявили, что расследование в отнош...  \n",
       "1    В России число зараженных коронавирусом превыс...  \n",
       "2    Скопление людей в очередях перед входом в метр...  \n",
       "3    Глобальный спрос на нефть в апреле 2020 года у...  \n",
       "4    Российская нефть Urals подешевела, несмотря на...  \n",
       "..                                                 ...  \n",
       "208  В Москве владельцев двухкомнатной квартиры пос...  \n",
       "209  Совместное предприятие «Газпром нефти» и Shell...  \n",
       "210  Российский пловец, трехкратный призер чемпиона...  \n",
       "211  В Краснодарском крае врачи силой укладывали кр...  \n",
       "212  Китайские физики, работающие в коллаборации Ch...  \n",
       "\n",
       "[213 rows x 2 columns]"
      ]
     },
     "execution_count": 2,
     "metadata": {},
     "output_type": "execute_result"
    }
   ],
   "source": [
    "sarbc_data = get_data('https://news.sarbc.ru/lenta/')"
   ]
  },
  {
   "cell_type": "markdown",
   "metadata": {},
   "source": [
    "## https://svpressa.ru/all/news-archive/"
   ]
  },
  {
   "cell_type": "markdown",
   "metadata": {},
   "source": [
    "Функция, которая ищет документ и краткое содержание"
   ]
  },
  {
   "cell_type": "code",
   "execution_count": 23,
   "metadata": {},
   "outputs": [],
   "source": [
    "from tqdm import tqdm_notebook\n",
    "import warnings\n",
    "\n",
    "\n",
    "def get_data_1(pages: int) -> pd.DataFrame:\n",
    "    #Будем использовать библиотеку bs4 для парсинга\n",
    "    url = 'https://svpressa.ru/all/news-archive/'\n",
    "    r = req.get(url)\n",
    "    soup = BeautifulSoup(r.content.decode(\"utf-8\"))\n",
    "    data_short = []\n",
    "    data_full = []\n",
    "    #Каждый раз будем переходить на новую страницу новостей\n",
    "    for j in tqdm_notebook(range(pages)):\n",
    "        #Чтобы очищать RAM\n",
    "        if j%50 == 0:\n",
    "            df = pd.DataFrame({'data_full':data_full, 'data_short':data_short})\n",
    "            df.to_csv(\"data\"+str(j/50)+\".csv\", index = False)\n",
    "            data_short = []\n",
    "            data_full = []\n",
    "        #Если новостей больше нет-останавливаемся\n",
    "        if not len(soup.find_all('div', \"b-article__container_item\")):\n",
    "            break\n",
    "        #Находим специальные контейнеры в которых находятся новости\n",
    "        try:\n",
    "            for i in soup.find_all('div', \"b-article__container_item\"):\n",
    "                #Ссылка на полную новость\n",
    "                link = str(i.find('a', \"b-article__title b-article__title_item\"))\n",
    "                link = 'https://svpressa.ru/{}/{}/{}'.format(*re.findall(r'\\w+', str(link))[7:10])\n",
    "                #Переходим по ссылке и преобразуем новость\n",
    "                z = BeautifulSoup(req.get(link).content)\\\n",
    "                .find('div', 'b-text__block b-text__block_text b-text__block_offset_large') \n",
    "                raw_text = ''\n",
    "                for piece in z.find_all('p')[:-2]:\n",
    "                    if piece.find('strong'):break\n",
    "                    raw_text += re.sub('\\xa0', ' ', piece.text)\n",
    "                data_full.append(raw_text)\n",
    "                #Находим и преобразовываем краткое содержание\n",
    "                data_short.append(re.sub('\\xa0',' ',i.find('a', \"b-article__title b-article__title_item\").text))\n",
    "            #Обновляем страницу\n",
    "            page = str(soup.find_all('a', 'b-pages-nav__btn')[0])\n",
    "            page = page[page.find('href')+6:-12]\n",
    "            soup = BeautifulSoup(req.get(url + page).content.decode(\"utf-8\"))\n",
    "        except:\n",
    "            pass\n",
    "        \n",
    "\n",
    "warnings.filterwarnings(\"ignore\")"
   ]
  },
  {
   "cell_type": "code",
   "execution_count": null,
   "metadata": {},
   "outputs": [
    {
     "data": {
      "application/vnd.jupyter.widget-view+json": {
       "model_id": "0e1bb85a65254bfcb12fd3c8e65b2539",
       "version_major": 2,
       "version_minor": 0
      },
      "text/plain": [
       "HBox(children=(FloatProgress(value=0.0, max=3000.0), HTML(value='')))"
      ]
     },
     "metadata": {},
     "output_type": "display_data"
    }
   ],
   "source": [
    "get_data_1(3000)"
   ]
  },
  {
   "cell_type": "code",
   "execution_count": 21,
   "metadata": {},
   "outputs": [
    {
     "data": {
      "text/html": [
       "<div>\n",
       "<style scoped>\n",
       "    .dataframe tbody tr th:only-of-type {\n",
       "        vertical-align: middle;\n",
       "    }\n",
       "\n",
       "    .dataframe tbody tr th {\n",
       "        vertical-align: top;\n",
       "    }\n",
       "\n",
       "    .dataframe thead th {\n",
       "        text-align: right;\n",
       "    }\n",
       "</style>\n",
       "<table border=\"1\" class=\"dataframe\">\n",
       "  <thead>\n",
       "    <tr style=\"text-align: right;\">\n",
       "      <th></th>\n",
       "      <th>data_full</th>\n",
       "      <th>data_short</th>\n",
       "    </tr>\n",
       "  </thead>\n",
       "  <tbody>\n",
       "    <tr>\n",
       "      <th>0</th>\n",
       "      <td>Московский ЦСКА рассчитывает подписать контрак...</td>\n",
       "      <td>Футболист «Жилины» может в ближайшее время пер...</td>\n",
       "    </tr>\n",
       "    <tr>\n",
       "      <th>1</th>\n",
       "      <td>Премьер-министр Великобритании Борис Джонсон в...</td>\n",
       "      <td>Борис Джонсон поблагодарил медиков за спасение...</td>\n",
       "    </tr>\n",
       "    <tr>\n",
       "      <th>2</th>\n",
       "      <td>Московский городской суд смягчил приговор прог...</td>\n",
       "      <td>Фигуранта «московского дела» освободили в зале...</td>\n",
       "    </tr>\n",
       "    <tr>\n",
       "      <th>3</th>\n",
       "      <td>Бывший полузащитник «Спартака» Жано Ананидзе в...</td>\n",
       "      <td>Бывший хавбек «Спартака» считает, что Джикия м...</td>\n",
       "    </tr>\n",
       "    <tr>\n",
       "      <th>4</th>\n",
       "      <td>Украинские СМИ сообщают, что в зоне Чернобыля ...</td>\n",
       "      <td>Пламя приближается к ЧАЭС: в Чернобыльской зон...</td>\n",
       "    </tr>\n",
       "    <tr>\n",
       "      <th>...</th>\n",
       "      <td>...</td>\n",
       "      <td>...</td>\n",
       "    </tr>\n",
       "    <tr>\n",
       "      <th>995</th>\n",
       "      <td>Число больных коронавирусом в КНР снижается с ...</td>\n",
       "      <td>В Китае 93 процента зараженных коронавирусом в...</td>\n",
       "    </tr>\n",
       "    <tr>\n",
       "      <th>996</th>\n",
       "      <td>Ученые в Гонконге выяснили, при какой температ...</td>\n",
       "      <td>Стала известна температура воздуха, при которо...</td>\n",
       "    </tr>\n",
       "    <tr>\n",
       "      <th>997</th>\n",
       "      <td>Три перспективных вакцины от инфекции, вызывае...</td>\n",
       "      <td>Три вакцины от COVID-19 разрабатывают в России</td>\n",
       "    </tr>\n",
       "    <tr>\n",
       "      <th>998</th>\n",
       "      <td>У Божены Рынски появился ребенок спустя год по...</td>\n",
       "      <td>Божена Рынска родила ребенка от погибшего мужа</td>\n",
       "    </tr>\n",
       "    <tr>\n",
       "      <th>999</th>\n",
       "      <td>Супруги в США умерли в результате заражения ко...</td>\n",
       "      <td>Супружеская пара умерла от коронавируса с разн...</td>\n",
       "    </tr>\n",
       "  </tbody>\n",
       "</table>\n",
       "<p>1000 rows × 2 columns</p>\n",
       "</div>"
      ],
      "text/plain": [
       "                                             data_full  \\\n",
       "0    Московский ЦСКА рассчитывает подписать контрак...   \n",
       "1    Премьер-министр Великобритании Борис Джонсон в...   \n",
       "2    Московский городской суд смягчил приговор прог...   \n",
       "3    Бывший полузащитник «Спартака» Жано Ананидзе в...   \n",
       "4    Украинские СМИ сообщают, что в зоне Чернобыля ...   \n",
       "..                                                 ...   \n",
       "995  Число больных коронавирусом в КНР снижается с ...   \n",
       "996  Ученые в Гонконге выяснили, при какой температ...   \n",
       "997  Три перспективных вакцины от инфекции, вызывае...   \n",
       "998  У Божены Рынски появился ребенок спустя год по...   \n",
       "999  Супруги в США умерли в результате заражения ко...   \n",
       "\n",
       "                                            data_short  \n",
       "0    Футболист «Жилины» может в ближайшее время пер...  \n",
       "1    Борис Джонсон поблагодарил медиков за спасение...  \n",
       "2    Фигуранта «московского дела» освободили в зале...  \n",
       "3    Бывший хавбек «Спартака» считает, что Джикия м...  \n",
       "4    Пламя приближается к ЧАЭС: в Чернобыльской зон...  \n",
       "..                                                 ...  \n",
       "995  В Китае 93 процента зараженных коронавирусом в...  \n",
       "996  Стала известна температура воздуха, при которо...  \n",
       "997     Три вакцины от COVID-19 разрабатывают в России  \n",
       "998     Божена Рынска родила ребенка от погибшего мужа  \n",
       "999  Супружеская пара умерла от коронавируса с разн...  \n",
       "\n",
       "[1000 rows x 2 columns]"
      ]
     },
     "execution_count": 21,
     "metadata": {},
     "output_type": "execute_result"
    }
   ],
   "source": [
    "pd.read_csv('data3.0.csv')"
   ]
  },
  {
   "cell_type": "code",
   "execution_count": 2,
   "metadata": {},
   "outputs": [],
   "source": [
    "import zipfile"
   ]
  },
  {
   "cell_type": "code",
   "execution_count": 10,
   "metadata": {},
   "outputs": [],
   "source": [
    "df1 = pd.read_csv(\"data3.0.csv\")"
   ]
  },
  {
   "cell_type": "code",
   "execution_count": 19,
   "metadata": {},
   "outputs": [],
   "source": [
    "data = pd.read_csv(\"data1.0.csv\")\n",
    "for i in range(2, 31):\n",
    "    data = pd.concat([pd.read_csv(\"data{}.0.csv\".format(i)), data], ignore_index = True)"
   ]
  },
  {
   "cell_type": "code",
   "execution_count": 28,
   "metadata": {},
   "outputs": [],
   "source": [
    "data = data.drop_duplicates()"
   ]
  },
  {
   "cell_type": "code",
   "execution_count": 30,
   "metadata": {},
   "outputs": [],
   "source": [
    "data.to_csv('data_main.csv')"
   ]
  },
  {
   "cell_type": "code",
   "execution_count": null,
   "metadata": {},
   "outputs": [],
   "source": []
  }
 ],
 "metadata": {
  "kernelspec": {
   "display_name": "Python 3",
   "language": "python",
   "name": "python3"
  },
  "language_info": {
   "codemirror_mode": {
    "name": "ipython",
    "version": 3
   },
   "file_extension": ".py",
   "mimetype": "text/x-python",
   "name": "python",
   "nbconvert_exporter": "python",
   "pygments_lexer": "ipython3",
   "version": "3.7.3"
  }
 },
 "nbformat": 4,
 "nbformat_minor": 4
}
