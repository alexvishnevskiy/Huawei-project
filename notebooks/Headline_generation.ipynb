{
  "cells": [
    {
      "cell_type": "code",
      "source": [
        "!pip install -r requirements.txt\n",
        "!pip install rouge python-box"
      ],
      "metadata": {
        "id": "Y-c-a3wj9vm4"
      },
      "execution_count": null,
      "outputs": []
    },
    {
      "cell_type": "code",
      "source": [
        "from pytorch_lightning.callbacks.early_stopping import EarlyStopping\n",
        "from pytorch_lightning.callbacks import ModelCheckpoint\n",
        "from src.model.bart.finetune_model import load_bart\n",
        "from sklearn.model_selection import train_test_split\n",
        "from nltk.translate.bleu_score import corpus_bleu\n",
        "from src.model.bart import BART, BART_finetune\n",
        "from src.loaders.finetune_loader import FineTuneLoader\n",
        "from box import Box\n",
        "from collections import namedtuple\n",
        "from src.utils.load_data import RIA\n",
        "from src.utils.tokenizer import CustomTokenizer\n",
        "from nltk.tokenize import sent_tokenize\n",
        "from transformers import BartConfig\n",
        "from pytorch_lightning import Trainer\n",
        "from tqdm import tqdm\n",
        "from rouge import Rouge\n",
        "import pandas as pd\n",
        "from src.utils import load_data\n",
        "import numpy as np\n",
        "import torch\n",
        "import os"
      ],
      "metadata": {
        "id": "-evaalJ0-zKo"
      },
      "execution_count": 41,
      "outputs": []
    },
    {
      "cell_type": "code",
      "execution_count": 3,
      "metadata": {
        "id": "jYyc8kpOAucU"
      },
      "outputs": [],
      "source": [
        "torch.manual_seed(0)\n",
        "torch.backends.cudnn.deterministic = True\n",
        "torch.backends.cudnn.benchmark = False\n",
        "np.random.seed(0)"
      ]
    },
    {
      "cell_type": "markdown",
      "metadata": {
        "id": "eLZ8dJ-BjXsg"
      },
      "source": [
        "### Two news datasets: 'Газета', 'РИА Новости'."
      ]
    },
    {
      "cell_type": "markdown",
      "metadata": {
        "id": "f97I0kDKwRLX"
      },
      "source": [
        "\"РИА Новости\" gives only text and headlines, \"Газета\" consists of text, summary, headlines."
      ]
    },
    {
      "cell_type": "markdown",
      "source": [
        "Preprocess data for both datasets"
      ],
      "metadata": {
        "id": "MqdPfuv9ACED"
      }
    },
    {
      "cell_type": "code",
      "source": [
        "TEST_SIZE = 0.02\n",
        "N_ROWS = 50_000\n",
        "CHUNK_SIZE = 10_000"
      ],
      "metadata": {
        "id": "6nOkOb8pChkQ"
      },
      "execution_count": 4,
      "outputs": []
    },
    {
      "cell_type": "code",
      "source": [
        "load_data.collect_gazeta()\n",
        "RIA('data/ria.json.gz', N_ROWS, CHUNK_SIZE).get_data()"
      ],
      "metadata": {
        "colab": {
          "base_uri": "https://localhost:8080/"
        },
        "id": "Oa3-1KAA--Gd",
        "outputId": "a1657b9e-4dc3-40bb-dbac-c36556af87e0"
      },
      "execution_count": 6,
      "outputs": [
        {
          "output_type": "stream",
          "name": "stderr",
          "text": [
            "49999it [02:00, 414.95it/s]\n"
          ]
        }
      ]
    },
    {
      "cell_type": "markdown",
      "source": [
        "Load data for both datasets"
      ],
      "metadata": {
        "id": "bgPFe7yaBeQP"
      }
    },
    {
      "cell_type": "code",
      "source": [
        "data_ria = RIA.load_data('data/ria')\n",
        "data_ria_train, data_ria_val = train_test_split(data_ria, test_size = TEST_SIZE)\n",
        "data_gazeta_train = pd.read_csv('data/gazeta/gazeta_train.csv')\n",
        "data_gazeta_val = pd.read_csv('data/gazeta/gazeta_val.csv')"
      ],
      "metadata": {
        "id": "QngAkO3jBmqq"
      },
      "execution_count": 5,
      "outputs": []
    },
    {
      "cell_type": "code",
      "execution_count": 15,
      "metadata": {
        "colab": {
          "base_uri": "https://localhost:8080/",
          "height": 206
        },
        "id": "8dZZ4OCujXsx",
        "outputId": "82a9fd4f-6f4e-4f9b-f957-6f997282e635"
      },
      "outputs": [
        {
          "output_type": "execute_result",
          "data": {
            "text/html": [
              "\n",
              "  <div id=\"df-9d2147cc-3f5b-4f94-8f1a-2dedbd1dc02f\">\n",
              "    <div class=\"colab-df-container\">\n",
              "      <div>\n",
              "<style scoped>\n",
              "    .dataframe tbody tr th:only-of-type {\n",
              "        vertical-align: middle;\n",
              "    }\n",
              "\n",
              "    .dataframe tbody tr th {\n",
              "        vertical-align: top;\n",
              "    }\n",
              "\n",
              "    .dataframe thead th {\n",
              "        text-align: right;\n",
              "    }\n",
              "</style>\n",
              "<table border=\"1\" class=\"dataframe\">\n",
              "  <thead>\n",
              "    <tr style=\"text-align: right;\">\n",
              "      <th></th>\n",
              "      <th>text</th>\n",
              "      <th>title</th>\n",
              "    </tr>\n",
              "  </thead>\n",
              "  <tbody>\n",
              "    <tr>\n",
              "      <th>0</th>\n",
              "      <td>большая часть из 33 детей, которых граждане с...</td>\n",
              "      <td>большинство детей, которых пытались увезти в с...</td>\n",
              "    </tr>\n",
              "    <tr>\n",
              "      <th>1</th>\n",
              "      <td>премьер-министр украины, кандидат в президент...</td>\n",
              "      <td>луценко будет работать в команде тимошенко, ес...</td>\n",
              "    </tr>\n",
              "    <tr>\n",
              "      <th>2</th>\n",
              "      <td>до 7 февраля - того дня, когда граждане украи...</td>\n",
              "      <td>\"лютые\" выборы: есть ли вероятность второго ма...</td>\n",
              "    </tr>\n",
              "    <tr>\n",
              "      <th>3</th>\n",
              "      <td>группа вооруженных людей в ночь с субботы на ...</td>\n",
              "      <td>жертвами бойни на севере мексики стали 13 моло...</td>\n",
              "    </tr>\n",
              "    <tr>\n",
              "      <th>4</th>\n",
              "      <td>немецкий теннисист михаэль беррер стал победи...</td>\n",
              "      <td>немец беррер выиграл теннисный турнир на родин...</td>\n",
              "    </tr>\n",
              "  </tbody>\n",
              "</table>\n",
              "</div>\n",
              "      <button class=\"colab-df-convert\" onclick=\"convertToInteractive('df-9d2147cc-3f5b-4f94-8f1a-2dedbd1dc02f')\"\n",
              "              title=\"Convert this dataframe to an interactive table.\"\n",
              "              style=\"display:none;\">\n",
              "        \n",
              "  <svg xmlns=\"http://www.w3.org/2000/svg\" height=\"24px\"viewBox=\"0 0 24 24\"\n",
              "       width=\"24px\">\n",
              "    <path d=\"M0 0h24v24H0V0z\" fill=\"none\"/>\n",
              "    <path d=\"M18.56 5.44l.94 2.06.94-2.06 2.06-.94-2.06-.94-.94-2.06-.94 2.06-2.06.94zm-11 1L8.5 8.5l.94-2.06 2.06-.94-2.06-.94L8.5 2.5l-.94 2.06-2.06.94zm10 10l.94 2.06.94-2.06 2.06-.94-2.06-.94-.94-2.06-.94 2.06-2.06.94z\"/><path d=\"M17.41 7.96l-1.37-1.37c-.4-.4-.92-.59-1.43-.59-.52 0-1.04.2-1.43.59L10.3 9.45l-7.72 7.72c-.78.78-.78 2.05 0 2.83L4 21.41c.39.39.9.59 1.41.59.51 0 1.02-.2 1.41-.59l7.78-7.78 2.81-2.81c.8-.78.8-2.07 0-2.86zM5.41 20L4 18.59l7.72-7.72 1.47 1.35L5.41 20z\"/>\n",
              "  </svg>\n",
              "      </button>\n",
              "      \n",
              "  <style>\n",
              "    .colab-df-container {\n",
              "      display:flex;\n",
              "      flex-wrap:wrap;\n",
              "      gap: 12px;\n",
              "    }\n",
              "\n",
              "    .colab-df-convert {\n",
              "      background-color: #E8F0FE;\n",
              "      border: none;\n",
              "      border-radius: 50%;\n",
              "      cursor: pointer;\n",
              "      display: none;\n",
              "      fill: #1967D2;\n",
              "      height: 32px;\n",
              "      padding: 0 0 0 0;\n",
              "      width: 32px;\n",
              "    }\n",
              "\n",
              "    .colab-df-convert:hover {\n",
              "      background-color: #E2EBFA;\n",
              "      box-shadow: 0px 1px 2px rgba(60, 64, 67, 0.3), 0px 1px 3px 1px rgba(60, 64, 67, 0.15);\n",
              "      fill: #174EA6;\n",
              "    }\n",
              "\n",
              "    [theme=dark] .colab-df-convert {\n",
              "      background-color: #3B4455;\n",
              "      fill: #D2E3FC;\n",
              "    }\n",
              "\n",
              "    [theme=dark] .colab-df-convert:hover {\n",
              "      background-color: #434B5C;\n",
              "      box-shadow: 0px 1px 3px 1px rgba(0, 0, 0, 0.15);\n",
              "      filter: drop-shadow(0px 1px 2px rgba(0, 0, 0, 0.3));\n",
              "      fill: #FFFFFF;\n",
              "    }\n",
              "  </style>\n",
              "\n",
              "      <script>\n",
              "        const buttonEl =\n",
              "          document.querySelector('#df-9d2147cc-3f5b-4f94-8f1a-2dedbd1dc02f button.colab-df-convert');\n",
              "        buttonEl.style.display =\n",
              "          google.colab.kernel.accessAllowed ? 'block' : 'none';\n",
              "\n",
              "        async function convertToInteractive(key) {\n",
              "          const element = document.querySelector('#df-9d2147cc-3f5b-4f94-8f1a-2dedbd1dc02f');\n",
              "          const dataTable =\n",
              "            await google.colab.kernel.invokeFunction('convertToInteractive',\n",
              "                                                     [key], {});\n",
              "          if (!dataTable) return;\n",
              "\n",
              "          const docLinkHtml = 'Like what you see? Visit the ' +\n",
              "            '<a target=\"_blank\" href=https://colab.research.google.com/notebooks/data_table.ipynb>data table notebook</a>'\n",
              "            + ' to learn more about interactive tables.';\n",
              "          element.innerHTML = '';\n",
              "          dataTable['output_type'] = 'display_data';\n",
              "          await google.colab.output.renderOutput(dataTable, element);\n",
              "          const docLink = document.createElement('div');\n",
              "          docLink.innerHTML = docLinkHtml;\n",
              "          element.appendChild(docLink);\n",
              "        }\n",
              "      </script>\n",
              "    </div>\n",
              "  </div>\n",
              "  "
            ],
            "text/plain": [
              "                                                text                                              title\n",
              "0   большая часть из 33 детей, которых граждане с...  большинство детей, которых пытались увезти в с...\n",
              "1   премьер-министр украины, кандидат в президент...  луценко будет работать в команде тимошенко, ес...\n",
              "2   до 7 февраля - того дня, когда граждане украи...  \"лютые\" выборы: есть ли вероятность второго ма...\n",
              "3   группа вооруженных людей в ночь с субботы на ...  жертвами бойни на севере мексики стали 13 моло...\n",
              "4   немецкий теннисист михаэль беррер стал победи...  немец беррер выиграл теннисный турнир на родин..."
            ]
          },
          "metadata": {},
          "execution_count": 15
        }
      ],
      "source": [
        "data_ria.head()"
      ]
    },
    {
      "cell_type": "code",
      "execution_count": 16,
      "metadata": {
        "colab": {
          "base_uri": "https://localhost:8080/",
          "height": 354
        },
        "id": "D9-p1WwhtIt6",
        "outputId": "27e4762d-2e68-4e95-b44a-fb5259fa8d36"
      },
      "outputs": [
        {
          "output_type": "execute_result",
          "data": {
            "text/html": [
              "\n",
              "  <div id=\"df-38344fd0-1203-42e0-ae38-e6f2858638a2\">\n",
              "    <div class=\"colab-df-container\">\n",
              "      <div>\n",
              "<style scoped>\n",
              "    .dataframe tbody tr th:only-of-type {\n",
              "        vertical-align: middle;\n",
              "    }\n",
              "\n",
              "    .dataframe tbody tr th {\n",
              "        vertical-align: top;\n",
              "    }\n",
              "\n",
              "    .dataframe thead th {\n",
              "        text-align: right;\n",
              "    }\n",
              "</style>\n",
              "<table border=\"1\" class=\"dataframe\">\n",
              "  <thead>\n",
              "    <tr style=\"text-align: right;\">\n",
              "      <th></th>\n",
              "      <th>url</th>\n",
              "      <th>text</th>\n",
              "      <th>title</th>\n",
              "      <th>summary</th>\n",
              "      <th>date</th>\n",
              "    </tr>\n",
              "  </thead>\n",
              "  <tbody>\n",
              "    <tr>\n",
              "      <th>0</th>\n",
              "      <td>https://www.gazeta.ru/financial/2011/11/30/385...</td>\n",
              "      <td>«По итогам 2011 года чистый отток может состав...</td>\n",
              "      <td>Прогноз не успевает за оттоком</td>\n",
              "      <td>В 2011 году из России уйдет $80 млрд, считают ...</td>\n",
              "      <td>2011-11-30 18:33:39</td>\n",
              "    </tr>\n",
              "    <tr>\n",
              "      <th>1</th>\n",
              "      <td>https://www.gazeta.ru/business/2013/01/24/4939...</td>\n",
              "      <td>Российское подразделение интернет-корпорации G...</td>\n",
              "      <td>Google закончил поиск</td>\n",
              "      <td>Юлия Соловьева, экс-директор холдинга «Профмед...</td>\n",
              "      <td>2013-01-24 18:20:09</td>\n",
              "    </tr>\n",
              "    <tr>\n",
              "      <th>2</th>\n",
              "      <td>https://www.gazeta.ru/social/2018/02/06/116393...</td>\n",
              "      <td>Басманный районный суд Москвы вечером 6 феврал...</td>\n",
              "      <td>«Фигуранты дела могут давить на свидетелей»</td>\n",
              "      <td>Суд арестовал на два месяца четверых экс-чинов...</td>\n",
              "      <td>2018-02-06 21:21:14</td>\n",
              "    </tr>\n",
              "    <tr>\n",
              "      <th>3</th>\n",
              "      <td>https://www.gazeta.ru/business/2013/06/21/5388...</td>\n",
              "      <td>Как повлияло вступление в ВТО на конкурентносп...</td>\n",
              "      <td>«С последних традиционно «отжимают» больше»</td>\n",
              "      <td>Мнения предпринимателей по поводу вступления в...</td>\n",
              "      <td>2013-06-21 17:43:50</td>\n",
              "    </tr>\n",
              "    <tr>\n",
              "      <th>4</th>\n",
              "      <td>https://www.gazeta.ru/culture/2014/12/27/a_636...</td>\n",
              "      <td>К третьему сезону «Голос» на Первом канале ста...</td>\n",
              "      <td>Третий «Голос» за Градского</td>\n",
              "      <td>На Первом канале завершился третий сезон шоу «...</td>\n",
              "      <td>2014-12-27 01:10:01</td>\n",
              "    </tr>\n",
              "  </tbody>\n",
              "</table>\n",
              "</div>\n",
              "      <button class=\"colab-df-convert\" onclick=\"convertToInteractive('df-38344fd0-1203-42e0-ae38-e6f2858638a2')\"\n",
              "              title=\"Convert this dataframe to an interactive table.\"\n",
              "              style=\"display:none;\">\n",
              "        \n",
              "  <svg xmlns=\"http://www.w3.org/2000/svg\" height=\"24px\"viewBox=\"0 0 24 24\"\n",
              "       width=\"24px\">\n",
              "    <path d=\"M0 0h24v24H0V0z\" fill=\"none\"/>\n",
              "    <path d=\"M18.56 5.44l.94 2.06.94-2.06 2.06-.94-2.06-.94-.94-2.06-.94 2.06-2.06.94zm-11 1L8.5 8.5l.94-2.06 2.06-.94-2.06-.94L8.5 2.5l-.94 2.06-2.06.94zm10 10l.94 2.06.94-2.06 2.06-.94-2.06-.94-.94-2.06-.94 2.06-2.06.94z\"/><path d=\"M17.41 7.96l-1.37-1.37c-.4-.4-.92-.59-1.43-.59-.52 0-1.04.2-1.43.59L10.3 9.45l-7.72 7.72c-.78.78-.78 2.05 0 2.83L4 21.41c.39.39.9.59 1.41.59.51 0 1.02-.2 1.41-.59l7.78-7.78 2.81-2.81c.8-.78.8-2.07 0-2.86zM5.41 20L4 18.59l7.72-7.72 1.47 1.35L5.41 20z\"/>\n",
              "  </svg>\n",
              "      </button>\n",
              "      \n",
              "  <style>\n",
              "    .colab-df-container {\n",
              "      display:flex;\n",
              "      flex-wrap:wrap;\n",
              "      gap: 12px;\n",
              "    }\n",
              "\n",
              "    .colab-df-convert {\n",
              "      background-color: #E8F0FE;\n",
              "      border: none;\n",
              "      border-radius: 50%;\n",
              "      cursor: pointer;\n",
              "      display: none;\n",
              "      fill: #1967D2;\n",
              "      height: 32px;\n",
              "      padding: 0 0 0 0;\n",
              "      width: 32px;\n",
              "    }\n",
              "\n",
              "    .colab-df-convert:hover {\n",
              "      background-color: #E2EBFA;\n",
              "      box-shadow: 0px 1px 2px rgba(60, 64, 67, 0.3), 0px 1px 3px 1px rgba(60, 64, 67, 0.15);\n",
              "      fill: #174EA6;\n",
              "    }\n",
              "\n",
              "    [theme=dark] .colab-df-convert {\n",
              "      background-color: #3B4455;\n",
              "      fill: #D2E3FC;\n",
              "    }\n",
              "\n",
              "    [theme=dark] .colab-df-convert:hover {\n",
              "      background-color: #434B5C;\n",
              "      box-shadow: 0px 1px 3px 1px rgba(0, 0, 0, 0.15);\n",
              "      filter: drop-shadow(0px 1px 2px rgba(0, 0, 0, 0.3));\n",
              "      fill: #FFFFFF;\n",
              "    }\n",
              "  </style>\n",
              "\n",
              "      <script>\n",
              "        const buttonEl =\n",
              "          document.querySelector('#df-38344fd0-1203-42e0-ae38-e6f2858638a2 button.colab-df-convert');\n",
              "        buttonEl.style.display =\n",
              "          google.colab.kernel.accessAllowed ? 'block' : 'none';\n",
              "\n",
              "        async function convertToInteractive(key) {\n",
              "          const element = document.querySelector('#df-38344fd0-1203-42e0-ae38-e6f2858638a2');\n",
              "          const dataTable =\n",
              "            await google.colab.kernel.invokeFunction('convertToInteractive',\n",
              "                                                     [key], {});\n",
              "          if (!dataTable) return;\n",
              "\n",
              "          const docLinkHtml = 'Like what you see? Visit the ' +\n",
              "            '<a target=\"_blank\" href=https://colab.research.google.com/notebooks/data_table.ipynb>data table notebook</a>'\n",
              "            + ' to learn more about interactive tables.';\n",
              "          element.innerHTML = '';\n",
              "          dataTable['output_type'] = 'display_data';\n",
              "          await google.colab.output.renderOutput(dataTable, element);\n",
              "          const docLink = document.createElement('div');\n",
              "          docLink.innerHTML = docLinkHtml;\n",
              "          element.appendChild(docLink);\n",
              "        }\n",
              "      </script>\n",
              "    </div>\n",
              "  </div>\n",
              "  "
            ],
            "text/plain": [
              "                                                 url  ...                 date\n",
              "0  https://www.gazeta.ru/financial/2011/11/30/385...  ...  2011-11-30 18:33:39\n",
              "1  https://www.gazeta.ru/business/2013/01/24/4939...  ...  2013-01-24 18:20:09\n",
              "2  https://www.gazeta.ru/social/2018/02/06/116393...  ...  2018-02-06 21:21:14\n",
              "3  https://www.gazeta.ru/business/2013/06/21/5388...  ...  2013-06-21 17:43:50\n",
              "4  https://www.gazeta.ru/culture/2014/12/27/a_636...  ...  2014-12-27 01:10:01\n",
              "\n",
              "[5 rows x 5 columns]"
            ]
          },
          "metadata": {},
          "execution_count": 16
        }
      ],
      "source": [
        "data_gazeta_train.head()"
      ]
    },
    {
      "cell_type": "markdown",
      "metadata": {
        "id": "MGV-Yb2ibosM"
      },
      "source": [
        "Statistics for datasets"
      ]
    },
    {
      "cell_type": "code",
      "execution_count": 19,
      "metadata": {
        "colab": {
          "base_uri": "https://localhost:8080/"
        },
        "id": "gSjhPHbibr7K",
        "outputId": "4d137010-7e6c-4831-dd49-a0920626619b"
      },
      "outputs": [
        {
          "output_type": "stream",
          "name": "stdout",
          "text": [
            "gazeta: train:52285 | val:5265\n",
            "ria: train:321389 | val:6559\n"
          ]
        }
      ],
      "source": [
        "print(f'gazeta: train:{len(data_gazeta_train)} | val:{len(data_gazeta_val)}')\n",
        "print(f'ria: train:{len(data_ria_train)} | val:{len(data_ria_val)}')"
      ]
    },
    {
      "cell_type": "markdown",
      "metadata": {
        "id": "1bvPmzBfxddH"
      },
      "source": [
        "I will use 2 metrics: BLEU and ROUGE. They more correlate with human evaluation."
      ]
    },
    {
      "cell_type": "code",
      "execution_count": 6,
      "metadata": {
        "id": "7Cl29_xkjXs5"
      },
      "outputs": [],
      "source": [
        "def calc_scores(references, predictions):\n",
        "    Metrics = namedtuple(\"Metrics\", \"BLEU, ROUGE\")\n",
        "    print(\"Ref:\", references[-1])\n",
        "    print(\"Hyp:\", predictions[-1])\n",
        "\n",
        "    Metrics.BLEU = corpus_bleu([[r] for r in references], predictions)\n",
        "    print(\"BLEU: \", corpus_bleu([[r] for r in references], predictions))\n",
        "    # rouge = Rouge()\n",
        "    # scores = rouge.get_scores(predictions, references, avg=True)\n",
        "    # Metrics.ROUGE = scores\n",
        "    # print(\"ROUGE: \", scores)\n",
        "    return Metrics"
      ]
    },
    {
      "cell_type": "markdown",
      "metadata": {
        "id": "TnrY31RtjXs7"
      },
      "source": [
        "### Baseline lead rows"
      ]
    },
    {
      "cell_type": "code",
      "execution_count": 7,
      "metadata": {
        "id": "gTE0gBNxjXs9"
      },
      "outputs": [],
      "source": [
        "def calc_lead_rows_score(data, n=1, lower=True, summary = 'title'):\n",
        "    references = []\n",
        "    predictions = []\n",
        "\n",
        "    for text, summary in data[['text', summary]].values:\n",
        "        summary = summary if not lower else summary.lower()\n",
        "        references.append(summary)\n",
        "\n",
        "        text = text if not lower else text.lower()\n",
        "        sentences = [sentence for sentence in sent_tokenize(text)] \n",
        "        prediction = \" \".join(sentences[:n])\n",
        "        predictions.append(prediction)\n",
        "    return calc_scores(references, predictions)"
      ]
    },
    {
      "cell_type": "code",
      "execution_count": 49,
      "metadata": {
        "colab": {
          "base_uri": "https://localhost:8080/"
        },
        "id": "XmqTod3vjXs_",
        "outputId": "c33cb69a-3dfc-44a8-d712-409923e7a8c5"
      },
      "outputs": [
        {
          "output_type": "stream",
          "name": "stdout",
          "text": [
            "Ref: перспективные направления развития транспортной отрасли москвы\n",
            "Hyp: на встрече с журналистами были обсуждены следующие вопросы:- транспорт и связь москвы ветеранам ко дню победы;- взаимоотношения департамента с федеральной антимонопольной службой.\n",
            "BLEU:  0.20980822305084199\n"
          ]
        }
      ],
      "source": [
        "scores_ria = calc_lead_rows_score(data_ria_val, n=1)"
      ]
    },
    {
      "cell_type": "code",
      "execution_count": 47,
      "metadata": {
        "colab": {
          "base_uri": "https://localhost:8080/"
        },
        "id": "RcVdnC4wthkh",
        "outputId": "66d2e4e1-e07b-4e54-ed1d-dad60211c18a"
      },
      "outputs": [
        {
          "output_type": "stream",
          "name": "stdout",
          "text": [
            "Ref: в сша заявили о создании коалиции для патрулирования ормузского пролива. она будет составлена из всех стран мира. при этом россия утверждает, что до сих пор не получала приглашения к участию. о создании такого союза начали говорить после ряда инцидентов, произошедших в районе персидского залива с участием ирана. последний имел место 19 июля, когда тегеран задержал британский танкер в своих территориальных водах.\n",
            "Hyp: сша создают коалицию, чтобы патрулировать ормузский пролив. в нее войдут страны «по всему миру», заявил госсекретарь соединенных штатов америки майк помпео. «мы работаем над тем, чтобы изменить поведение руководства исламской республики иран.\n",
            "BLEU:  0.4423951640847578\n"
          ]
        }
      ],
      "source": [
        "scores_gazeta = calc_lead_rows_score(data_gazeta_val, n=3, summary = 'summary')"
      ]
    },
    {
      "cell_type": "markdown",
      "metadata": {
        "id": "-ahgupuFw09Q"
      },
      "source": [
        "## BART model"
      ]
    },
    {
      "cell_type": "markdown",
      "metadata": {
        "id": "RZa7vhJakXwL"
      },
      "source": [
        "**Pipeline**:\n",
        "1. Download and work out with datasets.\n",
        "2. Train BPE tokenizer 50000 rows will be enough for training.\n",
        "3. Split dataset and corrupt it.\n",
        "4. Choose config that is suitable for these datasets.\n",
        "5. Save model's weights .\n",
        "6. Train, then generate using greedy/beam search.\n",
        "7. Repeat experiement few times for more reliable results."
      ]
    },
    {
      "cell_type": "code",
      "source": [
        "MAX_LENGTH = 300"
      ],
      "metadata": {
        "id": "BTAkh8AMOwuy"
      },
      "execution_count": 8,
      "outputs": []
    },
    {
      "cell_type": "markdown",
      "source": [
        "Train and load tokenizer"
      ],
      "metadata": {
        "id": "DbFk-25AOosw"
      }
    },
    {
      "cell_type": "code",
      "source": [
        "CustomTokenizer().train(data_ria_train['text'].values)\n",
        "tokenizer = CustomTokenizer.load_from_pretrained(MAX_LENGTH)"
      ],
      "metadata": {
        "id": "WR_w0c9PK3xw"
      },
      "execution_count": 9,
      "outputs": []
    },
    {
      "cell_type": "markdown",
      "metadata": {
        "id": "AiJwUO7UkETg"
      },
      "source": [
        "Number of tokens for each dataset"
      ]
    },
    {
      "cell_type": "code",
      "execution_count": 12,
      "metadata": {
        "colab": {
          "base_uri": "https://localhost:8080/"
        },
        "id": "pGGXQjsbkJah",
        "outputId": "7194365b-a14c-458b-f704-e0642709c313"
      },
      "outputs": [
        {
          "output_type": "stream",
          "name": "stdout",
          "text": [
            "num_tokens:104842336\n",
            "num_tokens:2155983\n",
            "num_tokens:38909721\n",
            "num_tokens:3948127\n"
          ]
        }
      ],
      "source": [
        "for data in [data_ria_train, data_ria_val, data_gazeta_train, data_gazeta_val]:\n",
        "  stat = tokenizer.encode_batch(data['text'].values)\n",
        "  len_ = 0\n",
        "  for i in stat:\n",
        "    len_ += len(i.ids)\n",
        "  print(f'num_tokens:{len_}')"
      ]
    },
    {
      "cell_type": "markdown",
      "metadata": {
        "id": "Pl_jicqJ3B-I"
      },
      "source": [
        "## Pre-training"
      ]
    },
    {
      "cell_type": "code",
      "source": [
        "LR = 1e-4\n",
        "BATCH_SIZE = 8\n",
        "EPOCHS = 5\n",
        "ACC_STEP = 16\n",
        "ENCODER_LAYERS = 6\n",
        "DECODER_LAYERS = 6\n",
        "COL_ARTICLE = 'text'\n",
        "COL_SUMMARY = 'title'\n",
        "DATA_VAL_PRETRAIN = data_ria_val\n",
        "DATA_TRAIN_PRETRAIN = data_ria_train\n",
        "CHECKPOINT_PATH = 'model/checkpoints/pretrain'"
      ],
      "metadata": {
        "id": "Z_DNJXkRTVcS"
      },
      "execution_count": 20,
      "outputs": []
    },
    {
      "cell_type": "code",
      "source": [
        "config = BartConfig(\n",
        "    vocab_size = tokenizer.get_vocab_size(), \n",
        "    pad_token_id = tokenizer.token_to_id(\"<pad>\"),\n",
        "    bos_token_id = tokenizer.token_to_id(\"<s>\"),\n",
        "    eos_token_id = tokenizer.token_to_id(\"</s>\"),\n",
        "    encoder_layers = ENCODER_LAYERS,\n",
        "    decoder_layers = DECODER_LAYERS\n",
        "    )\n",
        "\n",
        "parameters = {\n",
        "    'lr': LR,\n",
        "    'batch_size': BATCH_SIZE,\n",
        "    'acc_step': ACC_STEP,\n",
        "    'max_length': MAX_LENGTH\n",
        "}\n",
        "\n",
        "parameters = Box(parameters)"
      ],
      "metadata": {
        "id": "EtEKHWhsQs0v"
      },
      "execution_count": 11,
      "outputs": []
    },
    {
      "cell_type": "code",
      "source": [
        "model = BART(\n",
        "    bart_config = config,\n",
        "    parameters = parameters,\n",
        "    data_train = DATA_TRAIN_PRETRAIN,\n",
        "    data_val = DATA_VAL_PRETRAIN,\n",
        "    col_article = COL_ARTICLE,\n",
        "    col_summary = COL_SUMMARY,\n",
        "    tokenizer = tokenizer\n",
        "    )"
      ],
      "metadata": {
        "id": "5EhtxhmbRTq0"
      },
      "execution_count": 12,
      "outputs": []
    },
    {
      "cell_type": "code",
      "execution_count": null,
      "metadata": {
        "id": "x2aDze52OiK1"
      },
      "outputs": [],
      "source": [
        "checkpoint_callback = ModelCheckpoint(\n",
        "    dirpath=CHECKPOINT_PATH,\n",
        "    monitor='avg_bleu',\n",
        "    mode='max'\n",
        ")\n",
        "\n",
        "early_stop_callback = EarlyStopping(\n",
        "    monitor='avg_bleu',\n",
        "    min_delta=0.00,\n",
        "    patience=2,\n",
        "    verbose=False,\n",
        "    mode='max'\n",
        ")\n",
        "\n",
        "trainer = Trainer(\n",
        "    gpus=1, max_epochs=EPOCHS,\n",
        "    callbacks = [early_stop_callback, checkpoint_callback]\n",
        "    )\n",
        "trainer.fit(model)"
      ]
    },
    {
      "cell_type": "code",
      "execution_count": null,
      "metadata": {
        "id": "DApDCfTQBr1h"
      },
      "outputs": [],
      "source": [
        "%reload_ext tensorboard\n",
        "%tensorboard --logdir /lightning_logs"
      ]
    },
    {
      "cell_type": "code",
      "execution_count": 14,
      "metadata": {
        "id": "72jtKlDPkpjr"
      },
      "outputs": [],
      "source": [
        "torch.cuda.empty_cache()"
      ]
    },
    {
      "cell_type": "markdown",
      "metadata": {
        "id": "2OokmHVK3MT3"
      },
      "source": [
        "## Fine-tuning"
      ]
    },
    {
      "cell_type": "code",
      "source": [
        "DATA_TRAIN_FINETUNE = data_ria_train\n",
        "DATA_VAL_FINETUNE = data_ria_val\n",
        "PRETRAINED_PATH = os.path.join(CHECKPOINT_PATH, 'best-model.ckpt')\n",
        "SAVE_PATH = 'model/checkpoints/finetune'\n",
        "MAX_LENGTH = 750\n",
        "LR = 1e-6\n",
        "MAX_LR = 3e-5\n",
        "PCT_START = 0.06\n",
        "EPOCHS = 5\n",
        "BATCH_SIZE = 8\n",
        "ACC_STEP = 16 "
      ],
      "metadata": {
        "id": "aQB0DS2DY-W_"
      },
      "execution_count": 21,
      "outputs": []
    },
    {
      "cell_type": "code",
      "source": [
        "parameters = {\n",
        "    'lr': LR,\n",
        "    'max_lr': MAX_LR,\n",
        "    'pct_start': PCT_START,\n",
        "    'num_epoch': EPOCHS,\n",
        "    'batch_size': BATCH_SIZE,\n",
        "    'acc_step': ACC_STEP,\n",
        "    'max_length': MAX_LENGTH\n",
        "}\n",
        "\n",
        "parameters = Box(parameters)"
      ],
      "metadata": {
        "id": "BptJsaT1cA4r"
      },
      "execution_count": 25,
      "outputs": []
    },
    {
      "cell_type": "code",
      "source": [
        "model = BART_finetune(\n",
        "    bart_config = config,\n",
        "    parameters = parameters,\n",
        "    data_train = DATA_TRAIN_FINETUNE,\n",
        "    data_val = DATA_VAL_FINETUNE,\n",
        "    col_article = COL_ARTICLE,\n",
        "    col_summary = COL_SUMMARY,\n",
        "    tokenizer = tokenizer\n",
        ")"
      ],
      "metadata": {
        "id": "UH6xkZyEVW21"
      },
      "execution_count": 27,
      "outputs": []
    },
    {
      "cell_type": "code",
      "execution_count": null,
      "metadata": {
        "id": "FrJss-245Q1b"
      },
      "outputs": [],
      "source": [
        "checkpoint_callback = ModelCheckpoint(\n",
        "    dirpath=SAVE_PATH,\n",
        "    monitor='avg_bleu',\n",
        "    mode='max'\n",
        ")\n",
        "\n",
        "early_stop_callback = EarlyStopping(\n",
        "    monitor='avg_bleu',\n",
        "    min_delta=0.00,\n",
        "    patience=2,\n",
        "    verbose=False,\n",
        "    mode='max'\n",
        ")\n",
        "\n",
        "trainer = Trainer(\n",
        "    gpus=1, max_epochs=EPOCHS,\n",
        "    callbacks = [early_stop_callback, checkpoint_callback]\n",
        "    )\n",
        "trainer.fit(model)"
      ]
    },
    {
      "cell_type": "code",
      "execution_count": null,
      "metadata": {
        "id": "GCp3QrgOHqFz"
      },
      "outputs": [],
      "source": [
        "%load_ext tensorboard\n",
        "%tensorboard --logdir lightning_logs/"
      ]
    },
    {
      "cell_type": "code",
      "execution_count": null,
      "metadata": {
        "id": "AqJKRxlwWaaQ"
      },
      "outputs": [],
      "source": [
        "torch.cuda.empty_cache()"
      ]
    },
    {
      "cell_type": "markdown",
      "source": [
        "## Examples"
      ],
      "metadata": {
        "id": "hqvBcdiQddzn"
      }
    },
    {
      "cell_type": "code",
      "source": [
        "PATH = os.path.join(SAVE_PATH, 'best-step.ckpt')"
      ],
      "metadata": {
        "id": "Ist7_YwleAx1"
      },
      "execution_count": 32,
      "outputs": []
    },
    {
      "cell_type": "code",
      "source": [
        "bart = load_bart(config, PATH)\n",
        "tokenizer = CustomTokenizer.load_from_pretrained()\n",
        "test_loader = FineTuneLoader.load(\n",
        "    data_ria_val,\n",
        "    tokenizer,\n",
        "    'text',\n",
        "    'title'\n",
        ")\n",
        "\n",
        "bart.cuda()\n",
        "bart.eval()"
      ],
      "metadata": {
        "id": "unIC1wbyd8TH"
      },
      "execution_count": null,
      "outputs": []
    },
    {
      "cell_type": "code",
      "source": [
        "ref = []\n",
        "pred = []\n",
        "\n",
        "with torch.no_grad():\n",
        "  for i, args in enumerate(tqdm(test_loader)):\n",
        "    generated = bart.generate(args['input_ids'].cuda())\n",
        "    generated = generated.cpu().numpy().tolist()\n",
        "    decoder_inputs = args['decoder_input_ids'].numpy().tolist()\n",
        "\n",
        "    pred.extend(tokenizer.decode_batch(generated))\n",
        "    ref.extend(tokenizer.decode_batch(decoder_inputs))\n",
        "calc_scores(ref, pred)"
      ],
      "metadata": {
        "id": "CsY8uoQgf8x4"
      },
      "execution_count": 82,
      "outputs": []
    }
  ],
  "metadata": {
    "accelerator": "GPU",
    "colab": {
      "collapsed_sections": [
        "Pl_jicqJ3B-I"
      ],
      "machine_shape": "hm",
      "name": "Headline_generation.ipynb",
      "provenance": []
    },
    "kernelspec": {
      "display_name": "Python 3",
      "language": "python",
      "name": "python3"
    },
    "language_info": {
      "codemirror_mode": {
        "name": "ipython",
        "version": 3
      },
      "file_extension": ".py",
      "mimetype": "text/x-python",
      "name": "python",
      "nbconvert_exporter": "python",
      "pygments_lexer": "ipython3",
      "version": "3.10.1"
    }
  },
  "nbformat": 4,
  "nbformat_minor": 0
}