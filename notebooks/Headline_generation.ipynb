{
  "cells": [
    {
      "cell_type": "code",
      "execution_count": null,
      "metadata": {
        "id": "Y-c-a3wj9vm4"
      },
      "outputs": [],
      "source": [
        "!pip install -r requirements.txt\n",
        "!pip install rouge python-box"
      ]
    },
    {
      "cell_type": "code",
      "execution_count": 2,
      "metadata": {
        "id": "-evaalJ0-zKo"
      },
      "outputs": [],
      "source": [
        "from pytorch_lightning.callbacks.early_stopping import EarlyStopping\n",
        "from pytorch_lightning.callbacks import ModelCheckpoint\n",
        "from src.model.bart.finetune_model import load_bart\n",
        "from sklearn.model_selection import train_test_split\n",
        "from nltk.translate.bleu_score import corpus_bleu\n",
        "from src.model.bart import BART, BART_finetune\n",
        "from src.loaders.finetune_loader import FineTuneLoader\n",
        "import pytorch_lightning as pl\n",
        "from box import Box\n",
        "from collections import namedtuple\n",
        "from src.utils.load_data import RIA\n",
        "from src.utils.tokenizer import CustomTokenizer\n",
        "from nltk.tokenize import sent_tokenize\n",
        "from transformers import BartConfig\n",
        "from pytorch_lightning import Trainer\n",
        "from tqdm import tqdm\n",
        "from rouge import Rouge\n",
        "import pandas as pd\n",
        "from src.utils import load_data\n",
        "import numpy as np\n",
        "import torch\n",
        "import os"
      ]
    },
    {
      "cell_type": "code",
      "execution_count": 3,
      "metadata": {
        "id": "jYyc8kpOAucU",
        "colab": {
          "base_uri": "https://localhost:8080/"
        },
        "outputId": "63462008-b9ed-4496-f9fa-6bfe06bd2017"
      },
      "outputs": [
        {
          "output_type": "stream",
          "name": "stderr",
          "text": [
            "Global seed set to 2022\n"
          ]
        },
        {
          "output_type": "execute_result",
          "data": {
            "text/plain": [
              "2022"
            ]
          },
          "metadata": {},
          "execution_count": 3
        }
      ],
      "source": [
        "pl.seed_everything(2022)"
      ]
    },
    {
      "cell_type": "markdown",
      "metadata": {
        "id": "eLZ8dJ-BjXsg"
      },
      "source": [
        "### Two news datasets: 'Газета', 'РИА Новости'."
      ]
    },
    {
      "cell_type": "markdown",
      "metadata": {
        "id": "f97I0kDKwRLX"
      },
      "source": [
        "\"РИА Новости\" gives only text and headlines, \"Газета\" consists of text, summary, headlines."
      ]
    },
    {
      "cell_type": "markdown",
      "metadata": {
        "id": "MqdPfuv9ACED"
      },
      "source": [
        "Preprocess data for both datasets"
      ]
    },
    {
      "cell_type": "code",
      "execution_count": 4,
      "metadata": {
        "id": "6nOkOb8pChkQ"
      },
      "outputs": [],
      "source": [
        "TEST_SIZE = 0.02\n",
        "N_ROWS = 500_000\n",
        "CHUNK_SIZE = 50_000"
      ]
    },
    {
      "cell_type": "code",
      "execution_count": null,
      "metadata": {
        "colab": {
          "background_save": true,
          "base_uri": "https://localhost:8080/"
        },
        "id": "Oa3-1KAA--Gd",
        "outputId": "e1a32746-4449-4ac0-ce23-2ba0cc01db30"
      },
      "outputs": [
        {
          "name": "stderr",
          "output_type": "stream",
          "text": [
            "499999it [27:06, 307.41it/s]\n"
          ]
        }
      ],
      "source": [
        "load_data.collect_gazeta()\n",
        "RIA('data/ria.json.gz', N_ROWS, CHUNK_SIZE).get_data()"
      ]
    },
    {
      "cell_type": "markdown",
      "metadata": {
        "id": "bgPFe7yaBeQP"
      },
      "source": [
        "Load data for both datasets"
      ]
    },
    {
      "cell_type": "code",
      "execution_count": 5,
      "metadata": {
        "id": "QngAkO3jBmqq"
      },
      "outputs": [],
      "source": [
        "data_ria = RIA.load_data('data/ria')\n",
        "data_ria_train, data_ria_val = train_test_split(data_ria, test_size = TEST_SIZE)\n",
        "data_gazeta_train = pd.read_csv('data/gazeta/gazeta_train.csv')\n",
        "data_gazeta_val = pd.read_csv('data/gazeta/gazeta_val.csv')"
      ]
    },
    {
      "cell_type": "code",
      "execution_count": null,
      "metadata": {
        "colab": {
          "base_uri": "https://localhost:8080/",
          "height": 206
        },
        "id": "8dZZ4OCujXsx",
        "outputId": "82a9fd4f-6f4e-4f9b-f957-6f997282e635"
      },
      "outputs": [
        {
          "data": {
            "text/html": [
              "\n",
              "  <div id=\"df-9d2147cc-3f5b-4f94-8f1a-2dedbd1dc02f\">\n",
              "    <div class=\"colab-df-container\">\n",
              "      <div>\n",
              "<style scoped>\n",
              "    .dataframe tbody tr th:only-of-type {\n",
              "        vertical-align: middle;\n",
              "    }\n",
              "\n",
              "    .dataframe tbody tr th {\n",
              "        vertical-align: top;\n",
              "    }\n",
              "\n",
              "    .dataframe thead th {\n",
              "        text-align: right;\n",
              "    }\n",
              "</style>\n",
              "<table border=\"1\" class=\"dataframe\">\n",
              "  <thead>\n",
              "    <tr style=\"text-align: right;\">\n",
              "      <th></th>\n",
              "      <th>text</th>\n",
              "      <th>title</th>\n",
              "    </tr>\n",
              "  </thead>\n",
              "  <tbody>\n",
              "    <tr>\n",
              "      <th>0</th>\n",
              "      <td>большая часть из 33 детей, которых граждане с...</td>\n",
              "      <td>большинство детей, которых пытались увезти в с...</td>\n",
              "    </tr>\n",
              "    <tr>\n",
              "      <th>1</th>\n",
              "      <td>премьер-министр украины, кандидат в президент...</td>\n",
              "      <td>луценко будет работать в команде тимошенко, ес...</td>\n",
              "    </tr>\n",
              "    <tr>\n",
              "      <th>2</th>\n",
              "      <td>до 7 февраля - того дня, когда граждане украи...</td>\n",
              "      <td>\"лютые\" выборы: есть ли вероятность второго ма...</td>\n",
              "    </tr>\n",
              "    <tr>\n",
              "      <th>3</th>\n",
              "      <td>группа вооруженных людей в ночь с субботы на ...</td>\n",
              "      <td>жертвами бойни на севере мексики стали 13 моло...</td>\n",
              "    </tr>\n",
              "    <tr>\n",
              "      <th>4</th>\n",
              "      <td>немецкий теннисист михаэль беррер стал победи...</td>\n",
              "      <td>немец беррер выиграл теннисный турнир на родин...</td>\n",
              "    </tr>\n",
              "  </tbody>\n",
              "</table>\n",
              "</div>\n",
              "      <button class=\"colab-df-convert\" onclick=\"convertToInteractive('df-9d2147cc-3f5b-4f94-8f1a-2dedbd1dc02f')\"\n",
              "              title=\"Convert this dataframe to an interactive table.\"\n",
              "              style=\"display:none;\">\n",
              "        \n",
              "  <svg xmlns=\"http://www.w3.org/2000/svg\" height=\"24px\"viewBox=\"0 0 24 24\"\n",
              "       width=\"24px\">\n",
              "    <path d=\"M0 0h24v24H0V0z\" fill=\"none\"/>\n",
              "    <path d=\"M18.56 5.44l.94 2.06.94-2.06 2.06-.94-2.06-.94-.94-2.06-.94 2.06-2.06.94zm-11 1L8.5 8.5l.94-2.06 2.06-.94-2.06-.94L8.5 2.5l-.94 2.06-2.06.94zm10 10l.94 2.06.94-2.06 2.06-.94-2.06-.94-.94-2.06-.94 2.06-2.06.94z\"/><path d=\"M17.41 7.96l-1.37-1.37c-.4-.4-.92-.59-1.43-.59-.52 0-1.04.2-1.43.59L10.3 9.45l-7.72 7.72c-.78.78-.78 2.05 0 2.83L4 21.41c.39.39.9.59 1.41.59.51 0 1.02-.2 1.41-.59l7.78-7.78 2.81-2.81c.8-.78.8-2.07 0-2.86zM5.41 20L4 18.59l7.72-7.72 1.47 1.35L5.41 20z\"/>\n",
              "  </svg>\n",
              "      </button>\n",
              "      \n",
              "  <style>\n",
              "    .colab-df-container {\n",
              "      display:flex;\n",
              "      flex-wrap:wrap;\n",
              "      gap: 12px;\n",
              "    }\n",
              "\n",
              "    .colab-df-convert {\n",
              "      background-color: #E8F0FE;\n",
              "      border: none;\n",
              "      border-radius: 50%;\n",
              "      cursor: pointer;\n",
              "      display: none;\n",
              "      fill: #1967D2;\n",
              "      height: 32px;\n",
              "      padding: 0 0 0 0;\n",
              "      width: 32px;\n",
              "    }\n",
              "\n",
              "    .colab-df-convert:hover {\n",
              "      background-color: #E2EBFA;\n",
              "      box-shadow: 0px 1px 2px rgba(60, 64, 67, 0.3), 0px 1px 3px 1px rgba(60, 64, 67, 0.15);\n",
              "      fill: #174EA6;\n",
              "    }\n",
              "\n",
              "    [theme=dark] .colab-df-convert {\n",
              "      background-color: #3B4455;\n",
              "      fill: #D2E3FC;\n",
              "    }\n",
              "\n",
              "    [theme=dark] .colab-df-convert:hover {\n",
              "      background-color: #434B5C;\n",
              "      box-shadow: 0px 1px 3px 1px rgba(0, 0, 0, 0.15);\n",
              "      filter: drop-shadow(0px 1px 2px rgba(0, 0, 0, 0.3));\n",
              "      fill: #FFFFFF;\n",
              "    }\n",
              "  </style>\n",
              "\n",
              "      <script>\n",
              "        const buttonEl =\n",
              "          document.querySelector('#df-9d2147cc-3f5b-4f94-8f1a-2dedbd1dc02f button.colab-df-convert');\n",
              "        buttonEl.style.display =\n",
              "          google.colab.kernel.accessAllowed ? 'block' : 'none';\n",
              "\n",
              "        async function convertToInteractive(key) {\n",
              "          const element = document.querySelector('#df-9d2147cc-3f5b-4f94-8f1a-2dedbd1dc02f');\n",
              "          const dataTable =\n",
              "            await google.colab.kernel.invokeFunction('convertToInteractive',\n",
              "                                                     [key], {});\n",
              "          if (!dataTable) return;\n",
              "\n",
              "          const docLinkHtml = 'Like what you see? Visit the ' +\n",
              "            '<a target=\"_blank\" href=https://colab.research.google.com/notebooks/data_table.ipynb>data table notebook</a>'\n",
              "            + ' to learn more about interactive tables.';\n",
              "          element.innerHTML = '';\n",
              "          dataTable['output_type'] = 'display_data';\n",
              "          await google.colab.output.renderOutput(dataTable, element);\n",
              "          const docLink = document.createElement('div');\n",
              "          docLink.innerHTML = docLinkHtml;\n",
              "          element.appendChild(docLink);\n",
              "        }\n",
              "      </script>\n",
              "    </div>\n",
              "  </div>\n",
              "  "
            ],
            "text/plain": [
              "                                                text                                              title\n",
              "0   большая часть из 33 детей, которых граждане с...  большинство детей, которых пытались увезти в с...\n",
              "1   премьер-министр украины, кандидат в президент...  луценко будет работать в команде тимошенко, ес...\n",
              "2   до 7 февраля - того дня, когда граждане украи...  \"лютые\" выборы: есть ли вероятность второго ма...\n",
              "3   группа вооруженных людей в ночь с субботы на ...  жертвами бойни на севере мексики стали 13 моло...\n",
              "4   немецкий теннисист михаэль беррер стал победи...  немец беррер выиграл теннисный турнир на родин..."
            ]
          },
          "execution_count": 15,
          "metadata": {},
          "output_type": "execute_result"
        }
      ],
      "source": [
        "data_ria.head()"
      ]
    },
    {
      "cell_type": "code",
      "execution_count": null,
      "metadata": {
        "colab": {
          "base_uri": "https://localhost:8080/",
          "height": 354
        },
        "id": "D9-p1WwhtIt6",
        "outputId": "27e4762d-2e68-4e95-b44a-fb5259fa8d36"
      },
      "outputs": [
        {
          "data": {
            "text/html": [
              "\n",
              "  <div id=\"df-38344fd0-1203-42e0-ae38-e6f2858638a2\">\n",
              "    <div class=\"colab-df-container\">\n",
              "      <div>\n",
              "<style scoped>\n",
              "    .dataframe tbody tr th:only-of-type {\n",
              "        vertical-align: middle;\n",
              "    }\n",
              "\n",
              "    .dataframe tbody tr th {\n",
              "        vertical-align: top;\n",
              "    }\n",
              "\n",
              "    .dataframe thead th {\n",
              "        text-align: right;\n",
              "    }\n",
              "</style>\n",
              "<table border=\"1\" class=\"dataframe\">\n",
              "  <thead>\n",
              "    <tr style=\"text-align: right;\">\n",
              "      <th></th>\n",
              "      <th>url</th>\n",
              "      <th>text</th>\n",
              "      <th>title</th>\n",
              "      <th>summary</th>\n",
              "      <th>date</th>\n",
              "    </tr>\n",
              "  </thead>\n",
              "  <tbody>\n",
              "    <tr>\n",
              "      <th>0</th>\n",
              "      <td>https://www.gazeta.ru/financial/2011/11/30/385...</td>\n",
              "      <td>«По итогам 2011 года чистый отток может состав...</td>\n",
              "      <td>Прогноз не успевает за оттоком</td>\n",
              "      <td>В 2011 году из России уйдет $80 млрд, считают ...</td>\n",
              "      <td>2011-11-30 18:33:39</td>\n",
              "    </tr>\n",
              "    <tr>\n",
              "      <th>1</th>\n",
              "      <td>https://www.gazeta.ru/business/2013/01/24/4939...</td>\n",
              "      <td>Российское подразделение интернет-корпорации G...</td>\n",
              "      <td>Google закончил поиск</td>\n",
              "      <td>Юлия Соловьева, экс-директор холдинга «Профмед...</td>\n",
              "      <td>2013-01-24 18:20:09</td>\n",
              "    </tr>\n",
              "    <tr>\n",
              "      <th>2</th>\n",
              "      <td>https://www.gazeta.ru/social/2018/02/06/116393...</td>\n",
              "      <td>Басманный районный суд Москвы вечером 6 феврал...</td>\n",
              "      <td>«Фигуранты дела могут давить на свидетелей»</td>\n",
              "      <td>Суд арестовал на два месяца четверых экс-чинов...</td>\n",
              "      <td>2018-02-06 21:21:14</td>\n",
              "    </tr>\n",
              "    <tr>\n",
              "      <th>3</th>\n",
              "      <td>https://www.gazeta.ru/business/2013/06/21/5388...</td>\n",
              "      <td>Как повлияло вступление в ВТО на конкурентносп...</td>\n",
              "      <td>«С последних традиционно «отжимают» больше»</td>\n",
              "      <td>Мнения предпринимателей по поводу вступления в...</td>\n",
              "      <td>2013-06-21 17:43:50</td>\n",
              "    </tr>\n",
              "    <tr>\n",
              "      <th>4</th>\n",
              "      <td>https://www.gazeta.ru/culture/2014/12/27/a_636...</td>\n",
              "      <td>К третьему сезону «Голос» на Первом канале ста...</td>\n",
              "      <td>Третий «Голос» за Градского</td>\n",
              "      <td>На Первом канале завершился третий сезон шоу «...</td>\n",
              "      <td>2014-12-27 01:10:01</td>\n",
              "    </tr>\n",
              "  </tbody>\n",
              "</table>\n",
              "</div>\n",
              "      <button class=\"colab-df-convert\" onclick=\"convertToInteractive('df-38344fd0-1203-42e0-ae38-e6f2858638a2')\"\n",
              "              title=\"Convert this dataframe to an interactive table.\"\n",
              "              style=\"display:none;\">\n",
              "        \n",
              "  <svg xmlns=\"http://www.w3.org/2000/svg\" height=\"24px\"viewBox=\"0 0 24 24\"\n",
              "       width=\"24px\">\n",
              "    <path d=\"M0 0h24v24H0V0z\" fill=\"none\"/>\n",
              "    <path d=\"M18.56 5.44l.94 2.06.94-2.06 2.06-.94-2.06-.94-.94-2.06-.94 2.06-2.06.94zm-11 1L8.5 8.5l.94-2.06 2.06-.94-2.06-.94L8.5 2.5l-.94 2.06-2.06.94zm10 10l.94 2.06.94-2.06 2.06-.94-2.06-.94-.94-2.06-.94 2.06-2.06.94z\"/><path d=\"M17.41 7.96l-1.37-1.37c-.4-.4-.92-.59-1.43-.59-.52 0-1.04.2-1.43.59L10.3 9.45l-7.72 7.72c-.78.78-.78 2.05 0 2.83L4 21.41c.39.39.9.59 1.41.59.51 0 1.02-.2 1.41-.59l7.78-7.78 2.81-2.81c.8-.78.8-2.07 0-2.86zM5.41 20L4 18.59l7.72-7.72 1.47 1.35L5.41 20z\"/>\n",
              "  </svg>\n",
              "      </button>\n",
              "      \n",
              "  <style>\n",
              "    .colab-df-container {\n",
              "      display:flex;\n",
              "      flex-wrap:wrap;\n",
              "      gap: 12px;\n",
              "    }\n",
              "\n",
              "    .colab-df-convert {\n",
              "      background-color: #E8F0FE;\n",
              "      border: none;\n",
              "      border-radius: 50%;\n",
              "      cursor: pointer;\n",
              "      display: none;\n",
              "      fill: #1967D2;\n",
              "      height: 32px;\n",
              "      padding: 0 0 0 0;\n",
              "      width: 32px;\n",
              "    }\n",
              "\n",
              "    .colab-df-convert:hover {\n",
              "      background-color: #E2EBFA;\n",
              "      box-shadow: 0px 1px 2px rgba(60, 64, 67, 0.3), 0px 1px 3px 1px rgba(60, 64, 67, 0.15);\n",
              "      fill: #174EA6;\n",
              "    }\n",
              "\n",
              "    [theme=dark] .colab-df-convert {\n",
              "      background-color: #3B4455;\n",
              "      fill: #D2E3FC;\n",
              "    }\n",
              "\n",
              "    [theme=dark] .colab-df-convert:hover {\n",
              "      background-color: #434B5C;\n",
              "      box-shadow: 0px 1px 3px 1px rgba(0, 0, 0, 0.15);\n",
              "      filter: drop-shadow(0px 1px 2px rgba(0, 0, 0, 0.3));\n",
              "      fill: #FFFFFF;\n",
              "    }\n",
              "  </style>\n",
              "\n",
              "      <script>\n",
              "        const buttonEl =\n",
              "          document.querySelector('#df-38344fd0-1203-42e0-ae38-e6f2858638a2 button.colab-df-convert');\n",
              "        buttonEl.style.display =\n",
              "          google.colab.kernel.accessAllowed ? 'block' : 'none';\n",
              "\n",
              "        async function convertToInteractive(key) {\n",
              "          const element = document.querySelector('#df-38344fd0-1203-42e0-ae38-e6f2858638a2');\n",
              "          const dataTable =\n",
              "            await google.colab.kernel.invokeFunction('convertToInteractive',\n",
              "                                                     [key], {});\n",
              "          if (!dataTable) return;\n",
              "\n",
              "          const docLinkHtml = 'Like what you see? Visit the ' +\n",
              "            '<a target=\"_blank\" href=https://colab.research.google.com/notebooks/data_table.ipynb>data table notebook</a>'\n",
              "            + ' to learn more about interactive tables.';\n",
              "          element.innerHTML = '';\n",
              "          dataTable['output_type'] = 'display_data';\n",
              "          await google.colab.output.renderOutput(dataTable, element);\n",
              "          const docLink = document.createElement('div');\n",
              "          docLink.innerHTML = docLinkHtml;\n",
              "          element.appendChild(docLink);\n",
              "        }\n",
              "      </script>\n",
              "    </div>\n",
              "  </div>\n",
              "  "
            ],
            "text/plain": [
              "                                                 url  ...                 date\n",
              "0  https://www.gazeta.ru/financial/2011/11/30/385...  ...  2011-11-30 18:33:39\n",
              "1  https://www.gazeta.ru/business/2013/01/24/4939...  ...  2013-01-24 18:20:09\n",
              "2  https://www.gazeta.ru/social/2018/02/06/116393...  ...  2018-02-06 21:21:14\n",
              "3  https://www.gazeta.ru/business/2013/06/21/5388...  ...  2013-06-21 17:43:50\n",
              "4  https://www.gazeta.ru/culture/2014/12/27/a_636...  ...  2014-12-27 01:10:01\n",
              "\n",
              "[5 rows x 5 columns]"
            ]
          },
          "execution_count": 16,
          "metadata": {},
          "output_type": "execute_result"
        }
      ],
      "source": [
        "data_gazeta_train.head()"
      ]
    },
    {
      "cell_type": "markdown",
      "metadata": {
        "id": "MGV-Yb2ibosM"
      },
      "source": [
        "Statistics for datasets"
      ]
    },
    {
      "cell_type": "code",
      "execution_count": null,
      "metadata": {
        "colab": {
          "base_uri": "https://localhost:8080/"
        },
        "id": "gSjhPHbibr7K",
        "outputId": "4d137010-7e6c-4831-dd49-a0920626619b"
      },
      "outputs": [
        {
          "name": "stdout",
          "output_type": "stream",
          "text": [
            "gazeta: train:52285 | val:5265\n",
            "ria: train:321389 | val:6559\n"
          ]
        }
      ],
      "source": [
        "print(f'gazeta: train:{len(data_gazeta_train)} | val:{len(data_gazeta_val)}')\n",
        "print(f'ria: train:{len(data_ria_train)} | val:{len(data_ria_val)}')"
      ]
    },
    {
      "cell_type": "markdown",
      "metadata": {
        "id": "1bvPmzBfxddH"
      },
      "source": [
        "I will use 2 metrics: BLEU and ROUGE. They more correlate with human evaluation."
      ]
    },
    {
      "cell_type": "code",
      "execution_count": 6,
      "metadata": {
        "id": "7Cl29_xkjXs5"
      },
      "outputs": [],
      "source": [
        "def calc_scores(references, predictions):\n",
        "    Metrics = namedtuple(\"Metrics\", \"BLEU, ROUGE\")\n",
        "    print(\"Ref:\", references[-1])\n",
        "    print(\"Hyp:\", predictions[-1])\n",
        "\n",
        "    Metrics.BLEU = corpus_bleu([[r] for r in references], predictions)\n",
        "    print(\"BLEU: \", corpus_bleu([[r] for r in references], predictions))\n",
        "    # rouge = Rouge()\n",
        "    # scores = rouge.get_scores(predictions, references, avg=True)\n",
        "    # Metrics.ROUGE = scores\n",
        "    # print(\"ROUGE: \", scores)\n",
        "    return Metrics"
      ]
    },
    {
      "cell_type": "markdown",
      "metadata": {
        "id": "TnrY31RtjXs7"
      },
      "source": [
        "### Baseline lead rows"
      ]
    },
    {
      "cell_type": "code",
      "execution_count": 8,
      "metadata": {
        "id": "gTE0gBNxjXs9"
      },
      "outputs": [],
      "source": [
        "def calc_lead_rows_score(data, n=1, lower=True, summary = 'title'):\n",
        "    references = []\n",
        "    predictions = []\n",
        "\n",
        "    for text, summary in data[['text', summary]].values:\n",
        "        summary = summary if not lower else summary.lower()\n",
        "        references.append(summary)\n",
        "\n",
        "        text = text if not lower else text.lower()\n",
        "        sentences = [sentence for sentence in sent_tokenize(text)] \n",
        "        prediction = \" \".join(sentences[:n])\n",
        "        predictions.append(prediction)\n",
        "    return calc_scores(references, predictions)"
      ]
    },
    {
      "cell_type": "code",
      "execution_count": null,
      "metadata": {
        "colab": {
          "base_uri": "https://localhost:8080/"
        },
        "id": "XmqTod3vjXs_",
        "outputId": "c33cb69a-3dfc-44a8-d712-409923e7a8c5"
      },
      "outputs": [
        {
          "name": "stdout",
          "output_type": "stream",
          "text": [
            "Ref: перспективные направления развития транспортной отрасли москвы\n",
            "Hyp: на встрече с журналистами были обсуждены следующие вопросы:- транспорт и связь москвы ветеранам ко дню победы;- взаимоотношения департамента с федеральной антимонопольной службой.\n",
            "BLEU:  0.20980822305084199\n"
          ]
        }
      ],
      "source": [
        "scores_ria = calc_lead_rows_score(data_ria_val, n=1)"
      ]
    },
    {
      "cell_type": "code",
      "execution_count": null,
      "metadata": {
        "colab": {
          "base_uri": "https://localhost:8080/"
        },
        "id": "RcVdnC4wthkh",
        "outputId": "66d2e4e1-e07b-4e54-ed1d-dad60211c18a"
      },
      "outputs": [
        {
          "name": "stdout",
          "output_type": "stream",
          "text": [
            "Ref: в сша заявили о создании коалиции для патрулирования ормузского пролива. она будет составлена из всех стран мира. при этом россия утверждает, что до сих пор не получала приглашения к участию. о создании такого союза начали говорить после ряда инцидентов, произошедших в районе персидского залива с участием ирана. последний имел место 19 июля, когда тегеран задержал британский танкер в своих территориальных водах.\n",
            "Hyp: сша создают коалицию, чтобы патрулировать ормузский пролив. в нее войдут страны «по всему миру», заявил госсекретарь соединенных штатов америки майк помпео. «мы работаем над тем, чтобы изменить поведение руководства исламской республики иран.\n",
            "BLEU:  0.4423951640847578\n"
          ]
        }
      ],
      "source": [
        "scores_gazeta = calc_lead_rows_score(data_gazeta_val, n=3, summary = 'summary')"
      ]
    },
    {
      "cell_type": "markdown",
      "metadata": {
        "id": "-ahgupuFw09Q"
      },
      "source": [
        "## BART model"
      ]
    },
    {
      "cell_type": "markdown",
      "metadata": {
        "id": "RZa7vhJakXwL"
      },
      "source": [
        "**Pipeline**:\n",
        "1. Download and work out with datasets.\n",
        "2. Train BPE tokenizer 50000 rows will be enough for training.\n",
        "3. Split dataset and corrupt it.\n",
        "4. Choose config that is suitable for these datasets.\n",
        "5. Save model's weights .\n",
        "6. Train, then generate using greedy/beam search.\n",
        "7. Repeat experiement few times for more reliable results."
      ]
    },
    {
      "cell_type": "code",
      "execution_count": null,
      "metadata": {
        "id": "BTAkh8AMOwuy"
      },
      "outputs": [],
      "source": [
        "MAX_LENGTH = 300"
      ]
    },
    {
      "cell_type": "markdown",
      "metadata": {
        "id": "DbFk-25AOosw"
      },
      "source": [
        "Train and load tokenizer"
      ]
    },
    {
      "cell_type": "code",
      "execution_count": null,
      "metadata": {
        "id": "WR_w0c9PK3xw"
      },
      "outputs": [],
      "source": [
        "CustomTokenizer().train(data_ria_train['text'].values)\n",
        "tokenizer = CustomTokenizer.load_from_pretrained(MAX_LENGTH)"
      ]
    },
    {
      "cell_type": "markdown",
      "metadata": {
        "id": "AiJwUO7UkETg"
      },
      "source": [
        "Number of tokens for each dataset"
      ]
    },
    {
      "cell_type": "code",
      "execution_count": null,
      "metadata": {
        "colab": {
          "base_uri": "https://localhost:8080/"
        },
        "id": "pGGXQjsbkJah",
        "outputId": "7194365b-a14c-458b-f704-e0642709c313"
      },
      "outputs": [
        {
          "name": "stdout",
          "output_type": "stream",
          "text": [
            "num_tokens:104842336\n",
            "num_tokens:2155983\n",
            "num_tokens:38909721\n",
            "num_tokens:3948127\n"
          ]
        }
      ],
      "source": [
        "for data in [data_ria_train, data_ria_val, data_gazeta_train, data_gazeta_val]:\n",
        "  stat = tokenizer.encode_batch(data['text'].values)\n",
        "  len_ = 0\n",
        "  for i in stat:\n",
        "    len_ += len(i.ids)\n",
        "  print(f'num_tokens:{len_}')"
      ]
    },
    {
      "cell_type": "markdown",
      "metadata": {
        "id": "Pl_jicqJ3B-I"
      },
      "source": [
        "## Pre-training"
      ]
    },
    {
      "cell_type": "code",
      "execution_count": 7,
      "metadata": {
        "id": "Z_DNJXkRTVcS"
      },
      "outputs": [],
      "source": [
        "LR = 1e-4\n",
        "BATCH_SIZE = 8\n",
        "EPOCHS = 5\n",
        "ACC_STEP = 16\n",
        "ENCODER_LAYERS = 6\n",
        "DECODER_LAYERS = 6\n",
        "COL_ARTICLE = 'text'\n",
        "COL_SUMMARY = 'title'\n",
        "DATA_VAL_PRETRAIN = data_ria_val\n",
        "DATA_TRAIN_PRETRAIN = data_ria_train\n",
        "CHECKPOINT_PATH = 'model/checkpoints/pretrain'"
      ]
    },
    {
      "cell_type": "code",
      "execution_count": null,
      "metadata": {
        "id": "EtEKHWhsQs0v"
      },
      "outputs": [],
      "source": [
        "config = BartConfig(\n",
        "    vocab_size = tokenizer.get_vocab_size(), \n",
        "    pad_token_id = tokenizer.token_to_id(\"<pad>\"),\n",
        "    bos_token_id = tokenizer.token_to_id(\"<s>\"),\n",
        "    eos_token_id = tokenizer.token_to_id(\"</s>\"),\n",
        "    encoder_layers = ENCODER_LAYERS,\n",
        "    decoder_layers = DECODER_LAYERS\n",
        "    )\n",
        "\n",
        "parameters = {\n",
        "    'lr': LR,\n",
        "    'batch_size': BATCH_SIZE,\n",
        "    'acc_step': ACC_STEP,\n",
        "    'max_length': MAX_LENGTH\n",
        "}\n",
        "\n",
        "parameters = Box(parameters)"
      ]
    },
    {
      "cell_type": "code",
      "execution_count": null,
      "metadata": {
        "id": "5EhtxhmbRTq0"
      },
      "outputs": [],
      "source": [
        "model = BART(\n",
        "    bart_config = config,\n",
        "    parameters = parameters,\n",
        "    data_train = DATA_TRAIN_PRETRAIN,\n",
        "    data_val = DATA_VAL_PRETRAIN,\n",
        "    col_article = COL_ARTICLE,\n",
        "    col_summary = COL_SUMMARY,\n",
        "    tokenizer = tokenizer\n",
        "    )"
      ]
    },
    {
      "cell_type": "code",
      "execution_count": null,
      "metadata": {
        "id": "x2aDze52OiK1"
      },
      "outputs": [],
      "source": [
        "checkpoint_callback = ModelCheckpoint(\n",
        "    dirpath=CHECKPOINT_PATH,\n",
        "    monitor='bleu',\n",
        "    mode='max'\n",
        ")\n",
        "\n",
        "early_stop_callback = EarlyStopping(\n",
        "    monitor='bleu',\n",
        "    min_delta=0.00,\n",
        "    patience=2,\n",
        "    verbose=False,\n",
        "    mode='max'\n",
        ")\n",
        "\n",
        "trainer = Trainer(\n",
        "    gpus=1, max_epochs=EPOCHS,\n",
        "    callbacks = [early_stop_callback, checkpoint_callback]\n",
        "    )\n",
        "trainer.fit(model)"
      ]
    },
    {
      "cell_type": "code",
      "execution_count": null,
      "metadata": {
        "id": "DApDCfTQBr1h"
      },
      "outputs": [],
      "source": [
        "%reload_ext tensorboard\n",
        "%tensorboard --logdir /lightning_logs"
      ]
    },
    {
      "cell_type": "code",
      "execution_count": null,
      "metadata": {
        "id": "72jtKlDPkpjr"
      },
      "outputs": [],
      "source": [
        "torch.cuda.empty_cache()"
      ]
    },
    {
      "cell_type": "markdown",
      "metadata": {
        "id": "2OokmHVK3MT3"
      },
      "source": [
        "## Fine-tuning"
      ]
    },
    {
      "cell_type": "code",
      "execution_count": 7,
      "metadata": {
        "id": "aQB0DS2DY-W_"
      },
      "outputs": [],
      "source": [
        "DATA_TRAIN_FINETUNE = data_ria_train\n",
        "DATA_VAL_FINETUNE = data_ria_val\n",
        "ENCODER_LAYERS = 6\n",
        "DECODER_LAYERS = 6\n",
        "# PRETRAINED_PATH = os.path.join(CHECKPOINT_PATH, 'best-model.ckpt')\n",
        "SAVE_PATH = 'model/checkpoints/finetune'\n",
        "COL_ARTICLE = 'text'\n",
        "COL_SUMMARY = 'title'\n",
        "MAX_LENGTH = 750\n",
        "LR = 1e-5\n",
        "MAX_LR = 1e-4\n",
        "PCT_START = 0.06\n",
        "EPOCHS = 5\n",
        "BATCH_SIZE = 8\n",
        "ACC_STEP = 16"
      ]
    },
    {
      "cell_type": "code",
      "source": [
        "tokenizer = CustomTokenizer.load_from_pretrained(MAX_LENGTH)"
      ],
      "metadata": {
        "id": "I7osVb-UwYUD"
      },
      "execution_count": 8,
      "outputs": []
    },
    {
      "cell_type": "code",
      "execution_count": 9,
      "metadata": {
        "id": "BptJsaT1cA4r"
      },
      "outputs": [],
      "source": [
        "config = BartConfig(\n",
        "    vocab_size = tokenizer.get_vocab_size(), \n",
        "    pad_token_id = tokenizer.token_to_id(\"<pad>\"),\n",
        "    bos_token_id = tokenizer.token_to_id(\"<s>\"),\n",
        "    eos_token_id = tokenizer.token_to_id(\"</s>\"),\n",
        "    encoder_layers = ENCODER_LAYERS,\n",
        "    decoder_layers = DECODER_LAYERS\n",
        "    )\n",
        "\n",
        "parameters = {\n",
        "    'lr': LR,\n",
        "    'max_lr': MAX_LR,\n",
        "    'pct_start': PCT_START,\n",
        "    'num_epoch': EPOCHS,\n",
        "    'batch_size': BATCH_SIZE,\n",
        "    'acc_step': ACC_STEP,\n",
        "    'max_length': MAX_LENGTH\n",
        "}\n",
        "\n",
        "parameters = Box(parameters)"
      ]
    },
    {
      "cell_type": "code",
      "execution_count": 10,
      "metadata": {
        "id": "UH6xkZyEVW21"
      },
      "outputs": [],
      "source": [
        "model = BART_finetune(\n",
        "    bart_config = config,\n",
        "    parameters = parameters,\n",
        "    data_train = DATA_TRAIN_FINETUNE,\n",
        "    data_val = DATA_VAL_FINETUNE,\n",
        "    col_article = COL_ARTICLE,\n",
        "    col_summary = COL_SUMMARY,\n",
        "    tokenizer = tokenizer\n",
        ")"
      ]
    },
    {
      "cell_type": "code",
      "execution_count": null,
      "metadata": {
        "id": "FrJss-245Q1b",
        "colab": {
          "base_uri": "https://localhost:8080/",
          "height": 451,
          "referenced_widgets": [
            "13942c0f9007460cb045e7959d529e0d",
            "7be2eb221e1d4955a63a67c03d7bcca3",
            "e8243af20a684612bd4e28afb9c100d7",
            "b999819901f04efb9a61597569c42652",
            "42ca4430fe754335b3c5a571fcb1a9a7",
            "3d54df8a94ee40369542f04b9238391f",
            "d00a410ccc3f4561bbc64f3321bfc4db",
            "d0cca241e1e64e30b53c66b31542dc32",
            "702ea35ed02c4cb6b72ce9209f1c2477",
            "b309ab10584243e5b36079cad5fe5e44",
            "c0099614f88745b89f7b1e000130d920",
            "b1d649a869a5472987e98f1ce546718f",
            "0b90e0462ff940eb870caa0cdaf81a11",
            "c824bb18c7d34d418f9806c180632930",
            "60b7e4e1371b49088599e99d7f3577b9",
            "fdc3258912dd4e2aafa4a1514b4321ab",
            "7dd09236201148389ad3a6ccf1dfebe4",
            "495971d1a2094f39ae3abf99ea54e99c",
            "8def633e737649289508c7c64e3a77d0",
            "99fb9846c42d456a87fc25a8da808260",
            "f71592fa44bc4ac9a056ce7d48b06a4a",
            "701e9d85797940cd807f4de0932bc599"
          ]
        },
        "outputId": "188e08d1-9d0a-4ed8-ab4b-a25a25e4b630"
      },
      "outputs": [
        {
          "output_type": "stream",
          "name": "stderr",
          "text": [
            "GPU available: True, used: True\n",
            "TPU available: False, using: 0 TPU cores\n",
            "IPU available: False, using: 0 IPUs\n",
            "LOCAL_RANK: 0 - CUDA_VISIBLE_DEVICES: [0]\n",
            "\n",
            "  | Name | Type                         | Params\n",
            "------------------------------------------------------\n",
            "0 | bart | BartForConditionalGeneration | 214 M \n",
            "------------------------------------------------------\n",
            "214 M     Trainable params\n",
            "0         Non-trainable params\n",
            "214 M     Total params\n",
            "857.211   Total estimated model params size (MB)\n",
            "/usr/local/lib/python3.7/dist-packages/pytorch_lightning/callbacks/model_checkpoint.py:631: UserWarning: Checkpoint directory /content/drive/MyDrive/Huawei-project/model/checkpoints/finetune exists and is not empty.\n",
            "  rank_zero_warn(f\"Checkpoint directory {dirpath} exists and is not empty.\")\n"
          ]
        },
        {
          "output_type": "display_data",
          "data": {
            "application/vnd.jupyter.widget-view+json": {
              "model_id": "13942c0f9007460cb045e7959d529e0d",
              "version_minor": 0,
              "version_major": 2
            },
            "text/plain": [
              "Validation sanity check: 0it [00:00, ?it/s]"
            ]
          },
          "metadata": {}
        },
        {
          "output_type": "stream",
          "name": "stderr",
          "text": [
            "/usr/local/lib/python3.7/dist-packages/pytorch_lightning/trainer/data_loading.py:133: UserWarning: The dataloader, val_dataloader 0, does not have many workers which may be a bottleneck. Consider increasing the value of the `num_workers` argument` (try 4 which is the number of cpus on this machine) in the `DataLoader` init to improve performance.\n",
            "  f\"The dataloader, {name}, does not have many workers which may be a bottleneck.\"\n",
            "Global seed set to 2022\n",
            "/usr/local/lib/python3.7/dist-packages/pytorch_lightning/trainer/data_loading.py:133: UserWarning: The dataloader, train_dataloader, does not have many workers which may be a bottleneck. Consider increasing the value of the `num_workers` argument` (try 4 which is the number of cpus on this machine) in the `DataLoader` init to improve performance.\n",
            "  f\"The dataloader, {name}, does not have many workers which may be a bottleneck.\"\n"
          ]
        },
        {
          "output_type": "display_data",
          "data": {
            "application/vnd.jupyter.widget-view+json": {
              "model_id": "b1d649a869a5472987e98f1ce546718f",
              "version_minor": 0,
              "version_major": 2
            },
            "text/plain": [
              "Training: 0it [00:00, ?it/s]"
            ]
          },
          "metadata": {}
        },
        {
          "output_type": "stream",
          "name": "stderr",
          "text": [
            "/usr/local/lib/python3.7/dist-packages/pytorch_lightning/loops/optimization/closure.py:36: LightningDeprecationWarning: One of the returned values {'log'} has a `grad_fn`. We will detach it automatically but this behaviour will change in v1.6. Please detach it manually: `return {'loss': ..., 'something': something.detach()}`\n",
            "  f\"One of the returned values {set(extra.keys())} has a `grad_fn`. We will detach it automatically\"\n"
          ]
        }
      ],
      "source": [
        "checkpoint_callback = ModelCheckpoint(\n",
        "    dirpath=SAVE_PATH,\n",
        "    monitor='bleu',\n",
        "    mode='max'\n",
        ")\n",
        "\n",
        "early_stop_callback = EarlyStopping(\n",
        "    monitor='bleu',\n",
        "    min_delta=0.00,\n",
        "    patience=2,\n",
        "    verbose=False,\n",
        "    mode='max'\n",
        ")\n",
        "\n",
        "trainer = Trainer(\n",
        "    gpus=1, max_epochs=EPOCHS,\n",
        "    callbacks = [early_stop_callback, checkpoint_callback]\n",
        "    )\n",
        "trainer.fit(model)"
      ]
    },
    {
      "cell_type": "code",
      "execution_count": null,
      "metadata": {
        "id": "GCp3QrgOHqFz"
      },
      "outputs": [],
      "source": [
        "%load_ext tensorboard\n",
        "%tensorboard --logdir lightning_logs/"
      ]
    },
    {
      "cell_type": "code",
      "execution_count": null,
      "metadata": {
        "id": "AqJKRxlwWaaQ"
      },
      "outputs": [],
      "source": [
        "torch.cuda.empty_cache()"
      ]
    },
    {
      "cell_type": "markdown",
      "metadata": {
        "id": "hqvBcdiQddzn"
      },
      "source": [
        "## Examples"
      ]
    },
    {
      "cell_type": "code",
      "execution_count": null,
      "metadata": {
        "id": "Ist7_YwleAx1"
      },
      "outputs": [],
      "source": [
        "PATH = os.path.join(SAVE_PATH, 'best-step.ckpt')"
      ]
    },
    {
      "cell_type": "code",
      "execution_count": null,
      "metadata": {
        "id": "unIC1wbyd8TH"
      },
      "outputs": [],
      "source": [
        "bart = load_bart(config, PATH)\n",
        "tokenizer = CustomTokenizer.load_from_pretrained()\n",
        "test_loader = FineTuneLoader.load(\n",
        "    data_ria_val,\n",
        "    tokenizer,\n",
        "    'text',\n",
        "    'title'\n",
        ")\n",
        "\n",
        "bart.cuda()\n",
        "bart.eval()"
      ]
    },
    {
      "cell_type": "code",
      "execution_count": null,
      "metadata": {
        "id": "CsY8uoQgf8x4"
      },
      "outputs": [],
      "source": [
        "ref = []\n",
        "pred = []\n",
        "\n",
        "with torch.no_grad():\n",
        "  for i, args in enumerate(tqdm(test_loader)):\n",
        "    generated = bart.generate(args['input_ids'].cuda())\n",
        "    generated = generated.cpu().numpy().tolist()\n",
        "    decoder_inputs = args['decoder_input_ids'].numpy().tolist()\n",
        "\n",
        "    pred.extend(tokenizer.decode_batch(generated))\n",
        "    ref.extend(tokenizer.decode_batch(decoder_inputs))\n",
        "calc_scores(ref, pred)"
      ]
    }
  ],
  "metadata": {
    "accelerator": "GPU",
    "colab": {
      "collapsed_sections": [
        "TnrY31RtjXs7",
        "-ahgupuFw09Q",
        "Pl_jicqJ3B-I"
      ],
      "machine_shape": "hm",
      "name": "Headline_generation.ipynb",
      "provenance": []
    },
    "kernelspec": {
      "display_name": "Python 3",
      "language": "python",
      "name": "python3"
    },
    "language_info": {
      "codemirror_mode": {
        "name": "ipython",
        "version": 3
      },
      "file_extension": ".py",
      "mimetype": "text/x-python",
      "name": "python",
      "nbconvert_exporter": "python",
      "pygments_lexer": "ipython3",
      "version": "3.10.1"
    },
    "widgets": {
      "application/vnd.jupyter.widget-state+json": {
        "13942c0f9007460cb045e7959d529e0d": {
          "model_module": "@jupyter-widgets/controls",
          "model_name": "HBoxModel",
          "model_module_version": "1.5.0",
          "state": {
            "_view_name": "HBoxView",
            "_dom_classes": [],
            "_model_name": "HBoxModel",
            "_view_module": "@jupyter-widgets/controls",
            "_model_module_version": "1.5.0",
            "_view_count": null,
            "_view_module_version": "1.5.0",
            "box_style": "",
            "layout": "IPY_MODEL_7be2eb221e1d4955a63a67c03d7bcca3",
            "_model_module": "@jupyter-widgets/controls",
            "children": [
              "IPY_MODEL_e8243af20a684612bd4e28afb9c100d7",
              "IPY_MODEL_b999819901f04efb9a61597569c42652",
              "IPY_MODEL_42ca4430fe754335b3c5a571fcb1a9a7"
            ]
          }
        },
        "7be2eb221e1d4955a63a67c03d7bcca3": {
          "model_module": "@jupyter-widgets/base",
          "model_name": "LayoutModel",
          "model_module_version": "1.2.0",
          "state": {
            "_view_name": "LayoutView",
            "grid_template_rows": null,
            "right": null,
            "justify_content": null,
            "_view_module": "@jupyter-widgets/base",
            "overflow": null,
            "_model_module_version": "1.2.0",
            "_view_count": null,
            "flex_flow": "row wrap",
            "width": "100%",
            "min_width": null,
            "border": null,
            "align_items": null,
            "bottom": null,
            "_model_module": "@jupyter-widgets/base",
            "top": null,
            "grid_column": null,
            "overflow_y": null,
            "overflow_x": null,
            "grid_auto_flow": null,
            "grid_area": null,
            "grid_template_columns": null,
            "flex": null,
            "_model_name": "LayoutModel",
            "justify_items": null,
            "grid_row": null,
            "max_height": null,
            "align_content": null,
            "visibility": null,
            "align_self": null,
            "height": null,
            "min_height": null,
            "padding": null,
            "grid_auto_rows": null,
            "grid_gap": null,
            "max_width": null,
            "order": null,
            "_view_module_version": "1.2.0",
            "grid_template_areas": null,
            "object_position": null,
            "object_fit": null,
            "grid_auto_columns": null,
            "margin": null,
            "display": "inline-flex",
            "left": null
          }
        },
        "e8243af20a684612bd4e28afb9c100d7": {
          "model_module": "@jupyter-widgets/controls",
          "model_name": "HTMLModel",
          "model_module_version": "1.5.0",
          "state": {
            "_view_name": "HTMLView",
            "style": "IPY_MODEL_3d54df8a94ee40369542f04b9238391f",
            "_dom_classes": [],
            "description": "",
            "_model_name": "HTMLModel",
            "placeholder": "​",
            "_view_module": "@jupyter-widgets/controls",
            "_model_module_version": "1.5.0",
            "value": "Validation sanity check: 100%",
            "_view_count": null,
            "_view_module_version": "1.5.0",
            "description_tooltip": null,
            "_model_module": "@jupyter-widgets/controls",
            "layout": "IPY_MODEL_d00a410ccc3f4561bbc64f3321bfc4db"
          }
        },
        "b999819901f04efb9a61597569c42652": {
          "model_module": "@jupyter-widgets/controls",
          "model_name": "FloatProgressModel",
          "model_module_version": "1.5.0",
          "state": {
            "_view_name": "ProgressView",
            "style": "IPY_MODEL_d0cca241e1e64e30b53c66b31542dc32",
            "_dom_classes": [],
            "description": "",
            "_model_name": "FloatProgressModel",
            "bar_style": "",
            "max": 2,
            "_view_module": "@jupyter-widgets/controls",
            "_model_module_version": "1.5.0",
            "value": 2,
            "_view_count": null,
            "_view_module_version": "1.5.0",
            "orientation": "horizontal",
            "min": 0,
            "description_tooltip": null,
            "_model_module": "@jupyter-widgets/controls",
            "layout": "IPY_MODEL_702ea35ed02c4cb6b72ce9209f1c2477"
          }
        },
        "42ca4430fe754335b3c5a571fcb1a9a7": {
          "model_module": "@jupyter-widgets/controls",
          "model_name": "HTMLModel",
          "model_module_version": "1.5.0",
          "state": {
            "_view_name": "HTMLView",
            "style": "IPY_MODEL_b309ab10584243e5b36079cad5fe5e44",
            "_dom_classes": [],
            "description": "",
            "_model_name": "HTMLModel",
            "placeholder": "​",
            "_view_module": "@jupyter-widgets/controls",
            "_model_module_version": "1.5.0",
            "value": " 2/2 [00:00&lt;00:00,  3.38it/s]",
            "_view_count": null,
            "_view_module_version": "1.5.0",
            "description_tooltip": null,
            "_model_module": "@jupyter-widgets/controls",
            "layout": "IPY_MODEL_c0099614f88745b89f7b1e000130d920"
          }
        },
        "3d54df8a94ee40369542f04b9238391f": {
          "model_module": "@jupyter-widgets/controls",
          "model_name": "DescriptionStyleModel",
          "model_module_version": "1.5.0",
          "state": {
            "_view_name": "StyleView",
            "_model_name": "DescriptionStyleModel",
            "description_width": "",
            "_view_module": "@jupyter-widgets/base",
            "_model_module_version": "1.5.0",
            "_view_count": null,
            "_view_module_version": "1.2.0",
            "_model_module": "@jupyter-widgets/controls"
          }
        },
        "d00a410ccc3f4561bbc64f3321bfc4db": {
          "model_module": "@jupyter-widgets/base",
          "model_name": "LayoutModel",
          "model_module_version": "1.2.0",
          "state": {
            "_view_name": "LayoutView",
            "grid_template_rows": null,
            "right": null,
            "justify_content": null,
            "_view_module": "@jupyter-widgets/base",
            "overflow": null,
            "_model_module_version": "1.2.0",
            "_view_count": null,
            "flex_flow": null,
            "width": null,
            "min_width": null,
            "border": null,
            "align_items": null,
            "bottom": null,
            "_model_module": "@jupyter-widgets/base",
            "top": null,
            "grid_column": null,
            "overflow_y": null,
            "overflow_x": null,
            "grid_auto_flow": null,
            "grid_area": null,
            "grid_template_columns": null,
            "flex": null,
            "_model_name": "LayoutModel",
            "justify_items": null,
            "grid_row": null,
            "max_height": null,
            "align_content": null,
            "visibility": null,
            "align_self": null,
            "height": null,
            "min_height": null,
            "padding": null,
            "grid_auto_rows": null,
            "grid_gap": null,
            "max_width": null,
            "order": null,
            "_view_module_version": "1.2.0",
            "grid_template_areas": null,
            "object_position": null,
            "object_fit": null,
            "grid_auto_columns": null,
            "margin": null,
            "display": null,
            "left": null
          }
        },
        "d0cca241e1e64e30b53c66b31542dc32": {
          "model_module": "@jupyter-widgets/controls",
          "model_name": "ProgressStyleModel",
          "model_module_version": "1.5.0",
          "state": {
            "_view_name": "StyleView",
            "_model_name": "ProgressStyleModel",
            "description_width": "",
            "_view_module": "@jupyter-widgets/base",
            "_model_module_version": "1.5.0",
            "_view_count": null,
            "_view_module_version": "1.2.0",
            "bar_color": null,
            "_model_module": "@jupyter-widgets/controls"
          }
        },
        "702ea35ed02c4cb6b72ce9209f1c2477": {
          "model_module": "@jupyter-widgets/base",
          "model_name": "LayoutModel",
          "model_module_version": "1.2.0",
          "state": {
            "_view_name": "LayoutView",
            "grid_template_rows": null,
            "right": null,
            "justify_content": null,
            "_view_module": "@jupyter-widgets/base",
            "overflow": null,
            "_model_module_version": "1.2.0",
            "_view_count": null,
            "flex_flow": null,
            "width": null,
            "min_width": null,
            "border": null,
            "align_items": null,
            "bottom": null,
            "_model_module": "@jupyter-widgets/base",
            "top": null,
            "grid_column": null,
            "overflow_y": null,
            "overflow_x": null,
            "grid_auto_flow": null,
            "grid_area": null,
            "grid_template_columns": null,
            "flex": "2",
            "_model_name": "LayoutModel",
            "justify_items": null,
            "grid_row": null,
            "max_height": null,
            "align_content": null,
            "visibility": null,
            "align_self": null,
            "height": null,
            "min_height": null,
            "padding": null,
            "grid_auto_rows": null,
            "grid_gap": null,
            "max_width": null,
            "order": null,
            "_view_module_version": "1.2.0",
            "grid_template_areas": null,
            "object_position": null,
            "object_fit": null,
            "grid_auto_columns": null,
            "margin": null,
            "display": null,
            "left": null
          }
        },
        "b309ab10584243e5b36079cad5fe5e44": {
          "model_module": "@jupyter-widgets/controls",
          "model_name": "DescriptionStyleModel",
          "model_module_version": "1.5.0",
          "state": {
            "_view_name": "StyleView",
            "_model_name": "DescriptionStyleModel",
            "description_width": "",
            "_view_module": "@jupyter-widgets/base",
            "_model_module_version": "1.5.0",
            "_view_count": null,
            "_view_module_version": "1.2.0",
            "_model_module": "@jupyter-widgets/controls"
          }
        },
        "c0099614f88745b89f7b1e000130d920": {
          "model_module": "@jupyter-widgets/base",
          "model_name": "LayoutModel",
          "model_module_version": "1.2.0",
          "state": {
            "_view_name": "LayoutView",
            "grid_template_rows": null,
            "right": null,
            "justify_content": null,
            "_view_module": "@jupyter-widgets/base",
            "overflow": null,
            "_model_module_version": "1.2.0",
            "_view_count": null,
            "flex_flow": null,
            "width": null,
            "min_width": null,
            "border": null,
            "align_items": null,
            "bottom": null,
            "_model_module": "@jupyter-widgets/base",
            "top": null,
            "grid_column": null,
            "overflow_y": null,
            "overflow_x": null,
            "grid_auto_flow": null,
            "grid_area": null,
            "grid_template_columns": null,
            "flex": null,
            "_model_name": "LayoutModel",
            "justify_items": null,
            "grid_row": null,
            "max_height": null,
            "align_content": null,
            "visibility": null,
            "align_self": null,
            "height": null,
            "min_height": null,
            "padding": null,
            "grid_auto_rows": null,
            "grid_gap": null,
            "max_width": null,
            "order": null,
            "_view_module_version": "1.2.0",
            "grid_template_areas": null,
            "object_position": null,
            "object_fit": null,
            "grid_auto_columns": null,
            "margin": null,
            "display": null,
            "left": null
          }
        },
        "b1d649a869a5472987e98f1ce546718f": {
          "model_module": "@jupyter-widgets/controls",
          "model_name": "HBoxModel",
          "model_module_version": "1.5.0",
          "state": {
            "_view_name": "HBoxView",
            "_dom_classes": [],
            "_model_name": "HBoxModel",
            "_view_module": "@jupyter-widgets/controls",
            "_model_module_version": "1.5.0",
            "_view_count": null,
            "_view_module_version": "1.5.0",
            "box_style": "",
            "layout": "IPY_MODEL_0b90e0462ff940eb870caa0cdaf81a11",
            "_model_module": "@jupyter-widgets/controls",
            "children": [
              "IPY_MODEL_c824bb18c7d34d418f9806c180632930",
              "IPY_MODEL_60b7e4e1371b49088599e99d7f3577b9",
              "IPY_MODEL_fdc3258912dd4e2aafa4a1514b4321ab"
            ]
          }
        },
        "0b90e0462ff940eb870caa0cdaf81a11": {
          "model_module": "@jupyter-widgets/base",
          "model_name": "LayoutModel",
          "model_module_version": "1.2.0",
          "state": {
            "_view_name": "LayoutView",
            "grid_template_rows": null,
            "right": null,
            "justify_content": null,
            "_view_module": "@jupyter-widgets/base",
            "overflow": null,
            "_model_module_version": "1.2.0",
            "_view_count": null,
            "flex_flow": "row wrap",
            "width": "100%",
            "min_width": null,
            "border": null,
            "align_items": null,
            "bottom": null,
            "_model_module": "@jupyter-widgets/base",
            "top": null,
            "grid_column": null,
            "overflow_y": null,
            "overflow_x": null,
            "grid_auto_flow": null,
            "grid_area": null,
            "grid_template_columns": null,
            "flex": null,
            "_model_name": "LayoutModel",
            "justify_items": null,
            "grid_row": null,
            "max_height": null,
            "align_content": null,
            "visibility": null,
            "align_self": null,
            "height": null,
            "min_height": null,
            "padding": null,
            "grid_auto_rows": null,
            "grid_gap": null,
            "max_width": null,
            "order": null,
            "_view_module_version": "1.2.0",
            "grid_template_areas": null,
            "object_position": null,
            "object_fit": null,
            "grid_auto_columns": null,
            "margin": null,
            "display": "inline-flex",
            "left": null
          }
        },
        "c824bb18c7d34d418f9806c180632930": {
          "model_module": "@jupyter-widgets/controls",
          "model_name": "HTMLModel",
          "model_module_version": "1.5.0",
          "state": {
            "_view_name": "HTMLView",
            "style": "IPY_MODEL_7dd09236201148389ad3a6ccf1dfebe4",
            "_dom_classes": [],
            "description": "",
            "_model_name": "HTMLModel",
            "placeholder": "​",
            "_view_module": "@jupyter-widgets/controls",
            "_model_module_version": "1.5.0",
            "value": "Epoch 0:  22%",
            "_view_count": null,
            "_view_module_version": "1.5.0",
            "description_tooltip": null,
            "_model_module": "@jupyter-widgets/controls",
            "layout": "IPY_MODEL_495971d1a2094f39ae3abf99ea54e99c"
          }
        },
        "60b7e4e1371b49088599e99d7f3577b9": {
          "model_module": "@jupyter-widgets/controls",
          "model_name": "FloatProgressModel",
          "model_module_version": "1.5.0",
          "state": {
            "_view_name": "ProgressView",
            "style": "IPY_MODEL_8def633e737649289508c7c64e3a77d0",
            "_dom_classes": [],
            "description": "",
            "_model_name": "FloatProgressModel",
            "bar_style": "",
            "max": 64193,
            "_view_module": "@jupyter-widgets/controls",
            "_model_module_version": "1.5.0",
            "value": 14420,
            "_view_count": null,
            "_view_module_version": "1.5.0",
            "orientation": "horizontal",
            "min": 0,
            "description_tooltip": null,
            "_model_module": "@jupyter-widgets/controls",
            "layout": "IPY_MODEL_99fb9846c42d456a87fc25a8da808260"
          }
        },
        "fdc3258912dd4e2aafa4a1514b4321ab": {
          "model_module": "@jupyter-widgets/controls",
          "model_name": "HTMLModel",
          "model_module_version": "1.5.0",
          "state": {
            "_view_name": "HTMLView",
            "style": "IPY_MODEL_f71592fa44bc4ac9a056ce7d48b06a4a",
            "_dom_classes": [],
            "description": "",
            "_model_name": "HTMLModel",
            "placeholder": "​",
            "_view_module": "@jupyter-widgets/controls",
            "_model_module_version": "1.5.0",
            "value": " 14420/64193 [2:19:04&lt;8:00:03,  1.73it/s, loss=5.04, v_num=37]",
            "_view_count": null,
            "_view_module_version": "1.5.0",
            "description_tooltip": null,
            "_model_module": "@jupyter-widgets/controls",
            "layout": "IPY_MODEL_701e9d85797940cd807f4de0932bc599"
          }
        },
        "7dd09236201148389ad3a6ccf1dfebe4": {
          "model_module": "@jupyter-widgets/controls",
          "model_name": "DescriptionStyleModel",
          "model_module_version": "1.5.0",
          "state": {
            "_view_name": "StyleView",
            "_model_name": "DescriptionStyleModel",
            "description_width": "",
            "_view_module": "@jupyter-widgets/base",
            "_model_module_version": "1.5.0",
            "_view_count": null,
            "_view_module_version": "1.2.0",
            "_model_module": "@jupyter-widgets/controls"
          }
        },
        "495971d1a2094f39ae3abf99ea54e99c": {
          "model_module": "@jupyter-widgets/base",
          "model_name": "LayoutModel",
          "model_module_version": "1.2.0",
          "state": {
            "_view_name": "LayoutView",
            "grid_template_rows": null,
            "right": null,
            "justify_content": null,
            "_view_module": "@jupyter-widgets/base",
            "overflow": null,
            "_model_module_version": "1.2.0",
            "_view_count": null,
            "flex_flow": null,
            "width": null,
            "min_width": null,
            "border": null,
            "align_items": null,
            "bottom": null,
            "_model_module": "@jupyter-widgets/base",
            "top": null,
            "grid_column": null,
            "overflow_y": null,
            "overflow_x": null,
            "grid_auto_flow": null,
            "grid_area": null,
            "grid_template_columns": null,
            "flex": null,
            "_model_name": "LayoutModel",
            "justify_items": null,
            "grid_row": null,
            "max_height": null,
            "align_content": null,
            "visibility": null,
            "align_self": null,
            "height": null,
            "min_height": null,
            "padding": null,
            "grid_auto_rows": null,
            "grid_gap": null,
            "max_width": null,
            "order": null,
            "_view_module_version": "1.2.0",
            "grid_template_areas": null,
            "object_position": null,
            "object_fit": null,
            "grid_auto_columns": null,
            "margin": null,
            "display": null,
            "left": null
          }
        },
        "8def633e737649289508c7c64e3a77d0": {
          "model_module": "@jupyter-widgets/controls",
          "model_name": "ProgressStyleModel",
          "model_module_version": "1.5.0",
          "state": {
            "_view_name": "StyleView",
            "_model_name": "ProgressStyleModel",
            "description_width": "",
            "_view_module": "@jupyter-widgets/base",
            "_model_module_version": "1.5.0",
            "_view_count": null,
            "_view_module_version": "1.2.0",
            "bar_color": null,
            "_model_module": "@jupyter-widgets/controls"
          }
        },
        "99fb9846c42d456a87fc25a8da808260": {
          "model_module": "@jupyter-widgets/base",
          "model_name": "LayoutModel",
          "model_module_version": "1.2.0",
          "state": {
            "_view_name": "LayoutView",
            "grid_template_rows": null,
            "right": null,
            "justify_content": null,
            "_view_module": "@jupyter-widgets/base",
            "overflow": null,
            "_model_module_version": "1.2.0",
            "_view_count": null,
            "flex_flow": null,
            "width": null,
            "min_width": null,
            "border": null,
            "align_items": null,
            "bottom": null,
            "_model_module": "@jupyter-widgets/base",
            "top": null,
            "grid_column": null,
            "overflow_y": null,
            "overflow_x": null,
            "grid_auto_flow": null,
            "grid_area": null,
            "grid_template_columns": null,
            "flex": "2",
            "_model_name": "LayoutModel",
            "justify_items": null,
            "grid_row": null,
            "max_height": null,
            "align_content": null,
            "visibility": null,
            "align_self": null,
            "height": null,
            "min_height": null,
            "padding": null,
            "grid_auto_rows": null,
            "grid_gap": null,
            "max_width": null,
            "order": null,
            "_view_module_version": "1.2.0",
            "grid_template_areas": null,
            "object_position": null,
            "object_fit": null,
            "grid_auto_columns": null,
            "margin": null,
            "display": null,
            "left": null
          }
        },
        "f71592fa44bc4ac9a056ce7d48b06a4a": {
          "model_module": "@jupyter-widgets/controls",
          "model_name": "DescriptionStyleModel",
          "model_module_version": "1.5.0",
          "state": {
            "_view_name": "StyleView",
            "_model_name": "DescriptionStyleModel",
            "description_width": "",
            "_view_module": "@jupyter-widgets/base",
            "_model_module_version": "1.5.0",
            "_view_count": null,
            "_view_module_version": "1.2.0",
            "_model_module": "@jupyter-widgets/controls"
          }
        },
        "701e9d85797940cd807f4de0932bc599": {
          "model_module": "@jupyter-widgets/base",
          "model_name": "LayoutModel",
          "model_module_version": "1.2.0",
          "state": {
            "_view_name": "LayoutView",
            "grid_template_rows": null,
            "right": null,
            "justify_content": null,
            "_view_module": "@jupyter-widgets/base",
            "overflow": null,
            "_model_module_version": "1.2.0",
            "_view_count": null,
            "flex_flow": null,
            "width": null,
            "min_width": null,
            "border": null,
            "align_items": null,
            "bottom": null,
            "_model_module": "@jupyter-widgets/base",
            "top": null,
            "grid_column": null,
            "overflow_y": null,
            "overflow_x": null,
            "grid_auto_flow": null,
            "grid_area": null,
            "grid_template_columns": null,
            "flex": null,
            "_model_name": "LayoutModel",
            "justify_items": null,
            "grid_row": null,
            "max_height": null,
            "align_content": null,
            "visibility": null,
            "align_self": null,
            "height": null,
            "min_height": null,
            "padding": null,
            "grid_auto_rows": null,
            "grid_gap": null,
            "max_width": null,
            "order": null,
            "_view_module_version": "1.2.0",
            "grid_template_areas": null,
            "object_position": null,
            "object_fit": null,
            "grid_auto_columns": null,
            "margin": null,
            "display": null,
            "left": null
          }
        }
      }
    }
  },
  "nbformat": 4,
  "nbformat_minor": 0
}