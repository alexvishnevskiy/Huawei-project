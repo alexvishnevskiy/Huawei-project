{
 "cells": [
  {
   "cell_type": "code",
   "execution_count": 1,
   "metadata": {},
   "outputs": [],
   "source": [
    "import os\n",
    "os.chdir('/Users/александр/DLS deep learning school/Huawei_project/data')"
   ]
  },
  {
   "cell_type": "code",
   "execution_count": 2,
   "metadata": {},
   "outputs": [
    {
     "data": {
      "text/plain": [
       "'C:\\\\Users\\\\александр\\\\DLS deep learning school\\\\Huawei_project\\\\data'"
      ]
     },
     "execution_count": 2,
     "metadata": {},
     "output_type": "execute_result"
    }
   ],
   "source": [
    "os.getcwd()"
   ]
  },
  {
   "cell_type": "code",
   "execution_count": 3,
   "metadata": {},
   "outputs": [],
   "source": [
    "import json\n",
    "import re\n",
    "from bs4 import BeautifulSoup"
   ]
  },
  {
   "cell_type": "code",
   "execution_count": 4,
   "metadata": {},
   "outputs": [],
   "source": [
    "import pandas as pd\n",
    "from tqdm import tqdm_notebook\n",
    "from IPython.display import clear_output\n",
    "\n",
    "def get_data(number_of_rows):\n",
    "    with open(\"processed-ria.json\", \"r\", encoding='utf-8') as read_file:\n",
    "        data = pd.DataFrame()\n",
    "        for i, row in enumerate(read_file):\n",
    "            if i %50000 == 0:\n",
    "                data.to_csv(f'./data/data_pret{i//50000}.csv')\n",
    "                data = pd.DataFrame()\n",
    "            row = json.loads(row)\n",
    "            z = BeautifulSoup(row['text'])\n",
    "            text = re.sub('[\\n]', ' ', '.'.join(z.text.split('.')[1:]))\n",
    "            text = re.sub('[\\xa0]', ' ', text)\n",
    "            text = re.sub('[>>]', '', text)\n",
    "            p = BeautifulSoup(row['title'])\n",
    "            title = re.sub('[\\/]','',p.text)\n",
    "            dict = {'text':text, 'title':title}\n",
    "            data = pd.concat([data, pd.DataFrame(dict, index =[i])])\n",
    "            clear_output(True)\n",
    "            print('{} epoch out of {}'.format(i+1, number_of_rows))"
   ]
  },
  {
   "cell_type": "code",
   "execution_count": 15,
   "metadata": {},
   "outputs": [],
   "source": [
    "data = pd.read_csv(\"data_pret1.csv\")\n",
    "for i in range(2, 21):\n",
    "    data = pd.concat([pd.read_csv(\"data_pret{}.csv\".format(i)), data], ignore_index = True)"
   ]
  },
  {
   "cell_type": "code",
   "execution_count": null,
   "metadata": {},
   "outputs": [],
   "source": []
  }
 ],
 "metadata": {
  "kernelspec": {
   "display_name": "Python 3",
   "language": "python",
   "name": "python3"
  },
  "language_info": {
   "codemirror_mode": {
    "name": "ipython",
    "version": 3
   },
   "file_extension": ".py",
   "mimetype": "text/x-python",
   "name": "python",
   "nbconvert_exporter": "python",
   "pygments_lexer": "ipython3",
   "version": "3.7.3"
  }
 },
 "nbformat": 4,
 "nbformat_minor": 4
}
